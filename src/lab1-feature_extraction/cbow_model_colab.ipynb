{
  "cells": [
    {
      "cell_type": "markdown",
      "metadata": {
        "id": "oWD-Hb4alKrd"
      },
      "source": [
        "# Реализация алгоритма CBOW"
      ]
    },
    {
      "cell_type": "markdown",
      "metadata": {
        "id": "--QwGrHWz2pR"
      },
      "source": [
        "## Импорты"
      ]
    },
    {
      "cell_type": "code",
      "execution_count": 104,
      "metadata": {
        "id": "96XWn1kRlLAA"
      },
      "outputs": [],
      "source": [
        "from tqdm.notebook import tqdm\n",
        "\n",
        "import matplotlib.pyplot as plt\n",
        "from nltk.util import ngrams\n",
        "import numpy as np\n",
        "import pandas as pd\n",
        "from sklearn.model_selection import train_test_split\n",
        "import torch\n",
        "import torch.nn as nn\n",
        "from torch.utils.data import TensorDataset, DataLoader\n"
      ]
    },
    {
      "cell_type": "markdown",
      "metadata": {
        "id": "fCTfQSypMXJ2"
      },
      "source": [
        "## Сборка датасета"
      ]
    },
    {
      "cell_type": "markdown",
      "metadata": {
        "id": "7lubvWa9ZZKX"
      },
      "source": [
        "### Загрузка корпуса"
      ]
    },
    {
      "cell_type": "code",
      "execution_count": 105,
      "metadata": {
        "colab": {
          "base_uri": "https://localhost:8080/",
          "height": 415
        },
        "id": "KZMDAEb2Tcgv",
        "outputId": "31f34a42-3e8f-4283-ef3a-8691f4dd3502"
      },
      "outputs": [
        {
          "data": {
            "text/html": [
              "<div>\n",
              "<style scoped>\n",
              "    .dataframe tbody tr th:only-of-type {\n",
              "        vertical-align: middle;\n",
              "    }\n",
              "\n",
              "    .dataframe tbody tr th {\n",
              "        vertical-align: top;\n",
              "    }\n",
              "\n",
              "    .dataframe thead th {\n",
              "        text-align: right;\n",
              "    }\n",
              "</style>\n",
              "<table border=\"1\" class=\"dataframe\">\n",
              "  <thead>\n",
              "    <tr style=\"text-align: right;\">\n",
              "      <th></th>\n",
              "      <th>corpus</th>\n",
              "    </tr>\n",
              "  </thead>\n",
              "  <tbody>\n",
              "    <tr>\n",
              "      <th>3238</th>\n",
              "      <td>[добрый, день, нужно, очистить, сооружение, на...</td>\n",
              "    </tr>\n",
              "    <tr>\n",
              "      <th>14780</th>\n",
              "      <td>[починить, пожалуйста, лежачий, полицейский, д...</td>\n",
              "    </tr>\n",
              "    <tr>\n",
              "      <th>24666</th>\n",
              "      <td>[отслоение, штукатурка, стена, потолок, вход, ...</td>\n",
              "    </tr>\n",
              "    <tr>\n",
              "      <th>5085</th>\n",
              "      <td>[арка, направо, установка, батарея, использова...</td>\n",
              "    </tr>\n",
              "    <tr>\n",
              "      <th>5186</th>\n",
              "      <td>[месяц, домофон, висеть, украшение, хотя, плат...</td>\n",
              "    </tr>\n",
              "    <tr>\n",
              "      <th>13438</th>\n",
              "      <td>[незаконный, хранение, коляска, вторм, этаж, п...</td>\n",
              "    </tr>\n",
              "    <tr>\n",
              "      <th>12727</th>\n",
              "      <td>[вход, лестница, семь, стена, находиться, огол...</td>\n",
              "    </tr>\n",
              "    <tr>\n",
              "      <th>582</th>\n",
              "      <td>[второй, парадный, металлический, дверь, закры...</td>\n",
              "    </tr>\n",
              "    <tr>\n",
              "      <th>3743</th>\n",
              "      <td>[холл, третий, этаж, третий, парадный, дверь, ...</td>\n",
              "    </tr>\n",
              "    <tr>\n",
              "      <th>10790</th>\n",
              "      <td>[отсутствовать, асфальтовый, покрытие, двор, д...</td>\n",
              "    </tr>\n",
              "  </tbody>\n",
              "</table>\n",
              "</div><br><label><b>dtype:</b> object</label>"
            ],
            "text/plain": [
              "3238     [добрый, день, нужно, очистить, сооружение, на...\n",
              "14780    [починить, пожалуйста, лежачий, полицейский, д...\n",
              "24666    [отслоение, штукатурка, стена, потолок, вход, ...\n",
              "5085     [арка, направо, установка, батарея, использова...\n",
              "5186     [месяц, домофон, висеть, украшение, хотя, плат...\n",
              "13438    [незаконный, хранение, коляска, вторм, этаж, п...\n",
              "12727    [вход, лестница, семь, стена, находиться, огол...\n",
              "582      [второй, парадный, металлический, дверь, закры...\n",
              "3743     [холл, третий, этаж, третий, парадный, дверь, ...\n",
              "10790    [отсутствовать, асфальтовый, покрытие, двор, д...\n",
              "Name: corpus, dtype: object"
            ]
          },
          "metadata": {},
          "output_type": "display_data"
        },
        {
          "data": {
            "text/plain": [
              "(10000,)"
            ]
          },
          "metadata": {},
          "output_type": "display_data"
        }
      ],
      "source": [
        "corpus = pd.read_csv(\"/content/drive/MyDrive/Университет/NLP/corpus.csv\")\n",
        "corpus = corpus[\"corpus\"].apply(lambda text: text.split())\n",
        "corpus = corpus[np.random.randint(0, len(corpus), 10_000)]\n",
        "display(corpus[:10], corpus.shape)"
      ]
    },
    {
      "cell_type": "markdown",
      "metadata": {
        "id": "-pMYVZqfZcJ_"
      },
      "source": [
        "### Создание пентаграммов"
      ]
    },
    {
      "cell_type": "code",
      "execution_count": 106,
      "metadata": {
        "colab": {
          "base_uri": "https://localhost:8080/",
          "height": 225
        },
        "id": "FUFPmv-ITp0b",
        "outputId": "0a7c810a-911b-44ab-fe66-f3fa1a748f11"
      },
      "outputs": [
        {
          "data": {
            "text/plain": [
              "array([['добрый', 'день', 'нужно', 'очистить', 'сооружение'],\n",
              "       ['день', 'нужно', 'очистить', 'сооружение', 'надпись'],\n",
              "       ['починить', 'пожалуйста', 'лежачий', 'полицейский', 'двор'],\n",
              "       ['пожалуйста', 'лежачий', 'полицейский', 'двор', 'хватать'],\n",
              "       ['отслоение', 'штукатурка', 'стена', 'потолок', 'вход'],\n",
              "       ['штукатурка', 'стена', 'потолок', 'вход', 'балкон'],\n",
              "       ['стена', 'потолок', 'вход', 'балкон', 'лестница'],\n",
              "       ['потолок', 'вход', 'балкон', 'лестница', 'четыре'],\n",
              "       ['вход', 'балкон', 'лестница', 'четыре', 'этаж'],\n",
              "       ['балкон', 'лестница', 'четыре', 'этаж', 'семнадцать']],\n",
              "      dtype='<U21')"
            ]
          },
          "metadata": {},
          "output_type": "display_data"
        },
        {
          "data": {
            "text/plain": [
              "(120360, 5)"
            ]
          },
          "metadata": {},
          "output_type": "display_data"
        }
      ],
      "source": [
        "data = []\n",
        "for doc in corpus:\n",
        "    data.extend(list(ngrams(doc, n=5)))\n",
        "df = np.array(data)\n",
        "display(df[:10], df.shape)"
      ]
    },
    {
      "cell_type": "markdown",
      "metadata": {
        "id": "TyG63GVwZsZT"
      },
      "source": [
        "### Векторизация датасета"
      ]
    },
    {
      "cell_type": "code",
      "execution_count": 107,
      "metadata": {
        "colab": {
          "base_uri": "https://localhost:8080/",
          "height": 458
        },
        "id": "nilFcCH3Sthe",
        "outputId": "a168d7b0-de5f-4b55-a40a-7fa2d74f72b7"
      },
      "outputs": [
        {
          "data": {
            "text/html": [
              "<div>\n",
              "<style scoped>\n",
              "    .dataframe tbody tr th:only-of-type {\n",
              "        vertical-align: middle;\n",
              "    }\n",
              "\n",
              "    .dataframe tbody tr th {\n",
              "        vertical-align: top;\n",
              "    }\n",
              "\n",
              "    .dataframe thead th {\n",
              "        text-align: right;\n",
              "    }\n",
              "</style>\n",
              "<table border=\"1\" class=\"dataframe\">\n",
              "  <thead>\n",
              "    <tr style=\"text-align: right;\">\n",
              "      <th></th>\n",
              "      <th>0</th>\n",
              "    </tr>\n",
              "  </thead>\n",
              "  <tbody>\n",
              "    <tr>\n",
              "      <th>абразив</th>\n",
              "      <td>0</td>\n",
              "    </tr>\n",
              "    <tr>\n",
              "      <th>абрамов</th>\n",
              "      <td>1</td>\n",
              "    </tr>\n",
              "    <tr>\n",
              "      <th>абсолютно</th>\n",
              "      <td>2</td>\n",
              "    </tr>\n",
              "    <tr>\n",
              "      <th>авангард</th>\n",
              "      <td>3</td>\n",
              "    </tr>\n",
              "    <tr>\n",
              "      <th>авангардный</th>\n",
              "      <td>4</td>\n",
              "    </tr>\n",
              "    <tr>\n",
              "      <th>...</th>\n",
              "      <td>...</td>\n",
              "    </tr>\n",
              "    <tr>\n",
              "      <th>ящик</th>\n",
              "      <td>8248</td>\n",
              "    </tr>\n",
              "    <tr>\n",
              "      <th>ёлка</th>\n",
              "      <td>8249</td>\n",
              "    </tr>\n",
              "    <tr>\n",
              "      <th>ёлочка</th>\n",
              "      <td>8250</td>\n",
              "    </tr>\n",
              "    <tr>\n",
              "      <th>ёмкость</th>\n",
              "      <td>8251</td>\n",
              "    </tr>\n",
              "    <tr>\n",
              "      <th>ёх</th>\n",
              "      <td>8252</td>\n",
              "    </tr>\n",
              "  </tbody>\n",
              "</table>\n",
              "<p>8253 rows × 1 columns</p>\n",
              "</div><br><label><b>dtype:</b> int16</label>"
            ],
            "text/plain": [
              "абразив           0\n",
              "абрамов           1\n",
              "абсолютно         2\n",
              "авангард          3\n",
              "авангардный       4\n",
              "               ... \n",
              "ящик           8248\n",
              "ёлка           8249\n",
              "ёлочка         8250\n",
              "ёмкость        8251\n",
              "ёх             8252\n",
              "Length: 8253, dtype: int16"
            ]
          },
          "execution_count": 107,
          "metadata": {},
          "output_type": "execute_result"
        }
      ],
      "source": [
        "vocabulary = sorted(set([word for doc in corpus for word in doc]))\n",
        "vocabulary = pd.Series(data=range(len(vocabulary)), index=vocabulary, dtype=np.int16)\n",
        "vocabulary"
      ]
    },
    {
      "cell_type": "code",
      "execution_count": 108,
      "metadata": {
        "id": "2XpiQ4S7UJAZ"
      },
      "outputs": [],
      "source": [
        "def vectorize(word: str) -> int:\n",
        "    return vocabulary.loc[word]\n",
        "\n",
        "vectorized = np.vectorize(vectorize)"
      ]
    },
    {
      "cell_type": "code",
      "execution_count": 109,
      "metadata": {
        "colab": {
          "base_uri": "https://localhost:8080/"
        },
        "id": "Bqn7UQduVP2b",
        "outputId": "b7532571-600c-4c2e-96de-99598d9966c9"
      },
      "outputs": [
        {
          "data": {
            "text/plain": [
              "array([[1429, 1342, 3762, 4404, 6834],\n",
              "       [1342, 3762, 4404, 6834, 3262],\n",
              "       [5293, 4981, 2784, 5052, 1289],\n",
              "       [4981, 2784, 5052, 1289, 7841],\n",
              "       [4350, 8090, 7024, 5267,  828],\n",
              "       [8090, 7024, 5267,  828,  177],\n",
              "       [7024, 5267,  828,  177, 2806]], dtype=int16)"
            ]
          },
          "execution_count": 109,
          "metadata": {},
          "output_type": "execute_result"
        }
      ],
      "source": [
        "df = vectorized(df)\n",
        "df[:7]"
      ]
    },
    {
      "cell_type": "code",
      "execution_count": 110,
      "metadata": {
        "colab": {
          "base_uri": "https://localhost:8080/"
        },
        "id": "aZFDUO0aqjGA",
        "outputId": "b31e616a-6c0f-4b78-e60c-3faf3094a618"
      },
      "outputs": [
        {
          "data": {
            "text/plain": [
              "((120360, 4), (120360, 1))"
            ]
          },
          "execution_count": 110,
          "metadata": {},
          "output_type": "execute_result"
        }
      ],
      "source": [
        "x, y = np.delete(df, 2, axis=1), df[:, 2].reshape(-1, 1)\n",
        "x.shape, y.shape"
      ]
    },
    {
      "cell_type": "code",
      "execution_count": 111,
      "metadata": {
        "id": "t13UNLVpXe32"
      },
      "outputs": [],
      "source": [
        "# pd.DataFrame(df).to_csv(\"/content/drive/MyDrive/Университет/NLP/vectorized_df.csv\", index=False)"
      ]
    },
    {
      "cell_type": "markdown",
      "metadata": {
        "id": "Hels-2McaSFf"
      },
      "source": [
        "### Разделение на тренировочную и тестовую выборку"
      ]
    },
    {
      "cell_type": "code",
      "execution_count": 170,
      "metadata": {
        "colab": {
          "base_uri": "https://localhost:8080/"
        },
        "id": "rCAIILrmaabv",
        "outputId": "a0e46a87-9dcb-49e5-ad13-23f93264382b"
      },
      "outputs": [
        {
          "data": {
            "text/plain": [
              "((120350, 4), (10, 4), (120350, 1), (10, 1))"
            ]
          },
          "execution_count": 170,
          "metadata": {},
          "output_type": "execute_result"
        }
      ],
      "source": [
        "xtrain, xtest, ytrain, ytest = train_test_split(x, y, test_size=10, random_state=42)\n",
        "xtrain.shape, xtest.shape, ytrain.shape, ytest.shape"
      ]
    },
    {
      "cell_type": "markdown",
      "metadata": {
        "id": "8zK1_Gqma6BU"
      },
      "source": [
        "### Создание DataLoader"
      ]
    },
    {
      "cell_type": "code",
      "execution_count": 113,
      "metadata": {
        "id": "pkQdlyU6bCpY"
      },
      "outputs": [],
      "source": [
        "train_ds = TensorDataset(\n",
        "    torch.from_numpy(xtrain).type(torch.int),\n",
        "    torch.from_numpy(ytrain).type(torch.float)\n",
        ")\n",
        "train_dl = DataLoader(train_ds, batch_size=len(xtrain) // 300, shuffle=True)"
      ]
    },
    {
      "cell_type": "markdown",
      "metadata": {
        "id": "2I8KjA29apNk"
      },
      "source": [
        "## Нейронная сеть CBOW"
      ]
    },
    {
      "cell_type": "code",
      "execution_count": 114,
      "metadata": {
        "id": "NcIKYm-X1qG_"
      },
      "outputs": [],
      "source": [
        "def one_hot(indx):\n",
        "    vector = np.zeros(len(vocabulary), dtype=np.int8)\n",
        "    vector[int(indx)] = 1\n",
        "    return vector"
      ]
    },
    {
      "cell_type": "code",
      "execution_count": 115,
      "metadata": {
        "id": "B9ra6JVgatGA"
      },
      "outputs": [],
      "source": [
        "class CBOW(nn.Module):\n",
        "    def __init__(self, vocab_size: int, embedding_dim: int,\n",
        "            linear1_in_features: int, linear1_out_features: int\n",
        "        ) -> None:\n",
        "        super(CBOW, self).__init__()\n",
        "        self.embedding = nn.Embedding(vocab_size, embedding_dim)\n",
        "        self.linear1 = nn.Linear(linear1_in_features * embedding_dim, linear1_out_features)\n",
        "        self.linear2 = nn.Linear(linear1_out_features, vocab_size)\n",
        "        self.loss_values = []\n",
        "\n",
        "    def forward(self, X: torch.Tensor):\n",
        "        y = self.embedding(X).view(X.shape[0], -1)\n",
        "        y = self.linear1(y)\n",
        "        y = nn.ReLU()(y)\n",
        "        y = self.linear2(y)\n",
        "        y = nn.Softmax(dim=1)(y)\n",
        "        return y\n",
        "\n",
        "    def fit(self, dataloader, loss, optimizer, n_epohs: int = 30) -> None:\n",
        "        self.loss_values.clear()\n",
        "        for _ in tqdm(range(n_epohs), desc=\"Epoh\"):\n",
        "            for xbatch, ybatch in tqdm(dataloader, desc=\"Batch\", leave=False):\n",
        "                optimizer.zero_grad()\n",
        "                outputs = self(xbatch)\n",
        "                answer = torch.from_numpy(np.apply_along_axis(one_hot, 1, ybatch)).type(torch.float16)\n",
        "                loss_value = loss(outputs, answer)\n",
        "                loss_value.backward()\n",
        "                optimizer.step()\n",
        "            self.loss_values.append(loss_value.item())\n"
      ]
    },
    {
      "cell_type": "markdown",
      "metadata": {
        "id": "NZxnYumKaAVX"
      },
      "source": [
        "## Обучение модели"
      ]
    },
    {
      "cell_type": "code",
      "execution_count": 116,
      "metadata": {
        "colab": {
          "base_uri": "https://localhost:8080/"
        },
        "id": "JtZWkcK-aEw4",
        "outputId": "010dcaea-997a-41ef-f6c7-9993cec08dda"
      },
      "outputs": [
        {
          "name": "stdout",
          "output_type": "stream",
          "text": [
            "CBOW(\n",
            "  (embedding): Embedding(8253, 30)\n",
            "  (linear1): Linear(in_features=120, out_features=100, bias=True)\n",
            "  (linear2): Linear(in_features=100, out_features=8253, bias=True)\n",
            ")\n"
          ]
        }
      ],
      "source": [
        "model = CBOW(\n",
        "    vocab_size=len(vocabulary),\n",
        "    embedding_dim=30,\n",
        "    linear1_in_features=xtrain.shape[1],\n",
        "    linear1_out_features=100\n",
        ")\n",
        "print(model)"
      ]
    },
    {
      "cell_type": "code",
      "execution_count": null,
      "metadata": {
        "id": "8-yEORLkaJTH"
      },
      "outputs": [],
      "source": [
        "model.fit(\n",
        "    dataloader=train_dl,\n",
        "    loss=nn.CrossEntropyLoss(),\n",
        "    optimizer=torch.optim.Adam(model.parameters(), lr=25*1e-4)\n",
        ")"
      ]
    },
    {
      "cell_type": "code",
      "execution_count": 119,
      "metadata": {
        "colab": {
          "base_uri": "https://localhost:8080/",
          "height": 447
        },
        "id": "Q6Zh1WyD42J5",
        "outputId": "7c44d6fc-d18d-4d72-fbf8-0b2abc21c63e"
      },
      "outputs": [
        {
          "data": {
            "text/plain": [
              "[<matplotlib.lines.Line2D at 0x7cb163fb8a00>]"
            ]
          },
          "execution_count": 119,
          "metadata": {},
          "output_type": "execute_result"
        },
        {
          "data": {
            "image/png": "[encoded data removed]",
            "text/plain": [
              "<Figure size 640x480 with 1 Axes>"
            ]
          },
          "metadata": {},
          "output_type": "display_data"
        }
      ],
      "source": [
        "plt.plot(model.loss_values)"
      ]
    },
    {
      "cell_type": "code",
      "execution_count": 149,
      "metadata": {
        "id": "jofgxRsnnmlU"
      },
      "outputs": [],
      "source": [
        "# torch.save(model.state_dict(), \"/content/drive/MyDrive/Университет/NLP/model.pth\")"
      ]
    },
    {
      "cell_type": "markdown",
      "metadata": {
        "id": "MAjI9a2Fj_gf"
      },
      "source": [
        "## Результаты"
      ]
    },
    {
      "cell_type": "code",
      "execution_count": 171,
      "metadata": {
        "colab": {
          "base_uri": "https://localhost:8080/"
        },
        "id": "uQn_CjMEkRAY",
        "outputId": "df7bd90c-e002-498b-e503-971fc16dc240"
      },
      "outputs": [
        {
          "data": {
            "text/plain": [
              "(torch.Size([10, 4]), torch.Size([10, 1]))"
            ]
          },
          "execution_count": 171,
          "metadata": {},
          "output_type": "execute_result"
        }
      ],
      "source": [
        "xtest = torch.from_numpy(xtest).type(torch.int)\n",
        "ytest = torch.from_numpy(ytest).type(torch.float)\n",
        "xtest.shape, ytest.shape"
      ]
    },
    {
      "cell_type": "code",
      "execution_count": 172,
      "metadata": {
        "colab": {
          "base_uri": "https://localhost:8080/"
        },
        "id": "xBzOFdZ7kC9t",
        "outputId": "13aaa74c-a67e-4f97-b2f7-191254e13846"
      },
      "outputs": [
        {
          "data": {
            "text/plain": [
              "torch.Size([10, 8253])"
            ]
          },
          "execution_count": 172,
          "metadata": {},
          "output_type": "execute_result"
        }
      ],
      "source": [
        "predict = model.forward(xtest)\n",
        "predict.shape"
      ]
    },
    {
      "cell_type": "code",
      "execution_count": 163,
      "metadata": {
        "colab": {
          "base_uri": "https://localhost:8080/",
          "height": 241
        },
        "id": "XOYtpKSFlq6L",
        "outputId": "880c76dd-4f78-4f1f-84d3-f6533a7f5af7"
      },
      "outputs": [
        {
          "data": {
            "text/html": [
              "<div>\n",
              "<style scoped>\n",
              "    .dataframe tbody tr th:only-of-type {\n",
              "        vertical-align: middle;\n",
              "    }\n",
              "\n",
              "    .dataframe tbody tr th {\n",
              "        vertical-align: top;\n",
              "    }\n",
              "\n",
              "    .dataframe thead th {\n",
              "        text-align: right;\n",
              "    }\n",
              "</style>\n",
              "<table border=\"1\" class=\"dataframe\">\n",
              "  <thead>\n",
              "    <tr style=\"text-align: right;\">\n",
              "      <th></th>\n",
              "      <th>0</th>\n",
              "    </tr>\n",
              "  </thead>\n",
              "  <tbody>\n",
              "    <tr>\n",
              "      <th>0</th>\n",
              "      <td>абразив</td>\n",
              "    </tr>\n",
              "    <tr>\n",
              "      <th>1</th>\n",
              "      <td>абрамов</td>\n",
              "    </tr>\n",
              "    <tr>\n",
              "      <th>2</th>\n",
              "      <td>абсолютно</td>\n",
              "    </tr>\n",
              "    <tr>\n",
              "      <th>3</th>\n",
              "      <td>авангард</td>\n",
              "    </tr>\n",
              "    <tr>\n",
              "      <th>4</th>\n",
              "      <td>авангардный</td>\n",
              "    </tr>\n",
              "  </tbody>\n",
              "</table>\n",
              "</div><br><label><b>dtype:</b> object</label>"
            ],
            "text/plain": [
              "0        абразив\n",
              "1        абрамов\n",
              "2      абсолютно\n",
              "3       авангард\n",
              "4    авангардный\n",
              "dtype: object"
            ]
          },
          "execution_count": 163,
          "metadata": {},
          "output_type": "execute_result"
        }
      ],
      "source": [
        "vocab = pd.Series(data=vocabulary.index, index=vocabulary.values)\n",
        "vocab.head()"
      ]
    },
    {
      "cell_type": "code",
      "execution_count": 152,
      "metadata": {
        "id": "mHQReyBYmtBj"
      },
      "outputs": [],
      "source": [
        "def to_text(number: int):\n",
        "    return vocab.loc[number]\n",
        "\n",
        "to_text_func = np.vectorize(to_text)"
      ]
    },
    {
      "cell_type": "code",
      "execution_count": 174,
      "metadata": {
        "colab": {
          "base_uri": "https://localhost:8080/",
          "height": 363
        },
        "id": "XQ4v6-3AocKX",
        "outputId": "2366f58c-b90e-49b9-ce93-8b817ba3a23e"
      },
      "outputs": [
        {
          "data": {
            "application/vnd.google.colaboratory.intrinsic+json": {
              "summary": "{\n  \"name\": \"pd\",\n  \"rows\": 10,\n  \"fields\": [\n    {\n      \"column\": 0,\n      \"properties\": {\n        \"dtype\": \"string\",\n        \"num_unique_values\": 9,\n        \"samples\": [\n          \"\\u0433\\u0440\\u0430\\u0444\\u0438\\u043a\",\n          \"\\u0442\\u0440\\u044f\\u0441\\u0442\\u0438\",\n          \"\\u043f\\u0440\\u043e\\u0441\\u0438\\u0442\\u044c\"\n        ],\n        \"semantic_type\": \"\",\n        \"description\": \"\"\n      }\n    },\n    {\n      \"column\": 1,\n      \"properties\": {\n        \"dtype\": \"string\",\n        \"num_unique_values\": 10,\n        \"samples\": [\n          \"\\u0443\\u0431\\u043e\\u0440\\u043a\\u0430\",\n          \"\\u043c\\u043e\\u043c\\u0435\\u043d\\u0442\",\n          \"\\u043f\\u0430\\u0434\\u0430\\u0442\\u044c\"\n        ],\n        \"semantic_type\": \"\",\n        \"description\": \"\"\n      }\n    },\n    {\n      \"column\": 2,\n      \"properties\": {\n        \"dtype\": \"string\",\n        \"num_unique_values\": 10,\n        \"samples\": [\n          \"\\u043e\\u0431\\u0449\\u0438\\u0439\",\n          \"\\u043c\\u043e\\u0442\\u043e\\u0440\",\n          \"\\u043c\\u043e\\u0447\\u044c\"\n        ],\n        \"semantic_type\": \"\",\n        \"description\": \"\"\n      }\n    },\n    {\n      \"column\": 3,\n      \"properties\": {\n        \"dtype\": \"string\",\n        \"num_unique_values\": 10,\n        \"samples\": [\n          \"\\u043f\\u043e\\u043b\\u044c\\u0437\\u043e\\u0432\\u0430\\u043d\\u0438\\u0435\",\n          \"\\u0432\\u0440\\u0435\\u043c\\u044f\",\n          \"\\u043f\\u0440\\u043e\\u0434\\u043e\\u043b\\u0436\\u0430\\u0442\\u044c\\u0441\\u044f\"\n        ],\n        \"semantic_type\": \"\",\n        \"description\": \"\"\n      }\n    },\n    {\n      \"column\": \"answer\",\n      \"properties\": {\n        \"dtype\": \"string\",\n        \"num_unique_values\": 10,\n        \"samples\": [\n          \"\\u043c\\u0435\\u0441\\u0442\\u043e\",\n          \"\\u0437\\u0430\\u043f\\u0443\\u0441\\u043a\",\n          \"\\u0443\\u0431\\u0438\\u0440\\u0430\\u0442\\u044c\"\n        ],\n        \"semantic_type\": \"\",\n        \"description\": \"\"\n      }\n    },\n    {\n      \"column\": \"predict\",\n      \"properties\": {\n        \"dtype\": \"string\",\n        \"num_unique_values\": 9,\n        \"samples\": [\n          \"\\u043c\\u0435\\u0441\\u0442\\u043e\",\n          \"\\u0434\\u0432\\u0430\\u0434\\u0446\\u0430\\u0442\\u044c\",\n          \"\\u043a\\u043e\\u0442\\u043e\\u0440\\u044b\\u0439\"\n        ],\n        \"semantic_type\": \"\",\n        \"description\": \"\"\n      }\n    }\n  ]\n}",
              "type": "dataframe"
            },
            "text/html": [
              "\n",
              "  <div id=\"df-83e64939-155f-49e7-ad5d-75a9f2eeb369\" class=\"colab-df-container\">\n",
              "    <div>\n",
              "<style scoped>\n",
              "    .dataframe tbody tr th:only-of-type {\n",
              "        vertical-align: middle;\n",
              "    }\n",
              "\n",
              "    .dataframe tbody tr th {\n",
              "        vertical-align: top;\n",
              "    }\n",
              "\n",
              "    .dataframe thead th {\n",
              "        text-align: right;\n",
              "    }\n",
              "</style>\n",
              "<table border=\"1\" class=\"dataframe\">\n",
              "  <thead>\n",
              "    <tr style=\"text-align: right;\">\n",
              "      <th></th>\n",
              "      <th>0</th>\n",
              "      <th>1</th>\n",
              "      <th>2</th>\n",
              "      <th>3</th>\n",
              "      <th>answer</th>\n",
              "      <th>predict</th>\n",
              "    </tr>\n",
              "  </thead>\n",
              "  <tbody>\n",
              "    <tr>\n",
              "      <th>0</th>\n",
              "      <td>наш</td>\n",
              "      <td>санкт</td>\n",
              "      <td>пользователь</td>\n",
              "      <td>портал</td>\n",
              "      <td>петербург</td>\n",
              "      <td>петербург</td>\n",
              "    </tr>\n",
              "    <tr>\n",
              "      <th>1</th>\n",
              "      <td>трясти</td>\n",
              "      <td>момент</td>\n",
              "      <td>мотор</td>\n",
              "      <td>время</td>\n",
              "      <td>запуск</td>\n",
              "      <td>двадцать</td>\n",
              "    </tr>\n",
              "    <tr>\n",
              "      <th>2</th>\n",
              "      <td>необходимо</td>\n",
              "      <td>стереть</td>\n",
              "      <td>общественный</td>\n",
              "      <td>транспорт</td>\n",
              "      <td>остановка</td>\n",
              "      <td>мусор</td>\n",
              "    </tr>\n",
              "    <tr>\n",
              "      <th>3</th>\n",
              "      <td>улица</td>\n",
              "      <td>вавилов</td>\n",
              "      <td>семь</td>\n",
              "      <td>корп</td>\n",
              "      <td>дом</td>\n",
              "      <td>дом</td>\n",
              "    </tr>\n",
              "    <tr>\n",
              "      <th>4</th>\n",
              "      <td>улица</td>\n",
              "      <td>сытнинский</td>\n",
              "      <td>косметический</td>\n",
              "      <td>ремонт</td>\n",
              "      <td>провести</td>\n",
              "      <td>этаж</td>\n",
              "    </tr>\n",
              "    <tr>\n",
              "      <th>5</th>\n",
              "      <td>который</td>\n",
              "      <td>падать</td>\n",
              "      <td>мочь</td>\n",
              "      <td>продолжаться</td>\n",
              "      <td>убирать</td>\n",
              "      <td>который</td>\n",
              "    </tr>\n",
              "    <tr>\n",
              "      <th>6</th>\n",
              "      <td>просить</td>\n",
              "      <td>выдолбить</td>\n",
              "      <td>конец</td>\n",
              "      <td>качественно</td>\n",
              "      <td>работа</td>\n",
              "      <td>установить</td>\n",
              "    </tr>\n",
              "    <tr>\n",
              "      <th>7</th>\n",
              "      <td>дворник</td>\n",
              "      <td>развозить</td>\n",
              "      <td>контейнер</td>\n",
              "      <td>специально</td>\n",
              "      <td>мусорный</td>\n",
              "      <td>который</td>\n",
              "    </tr>\n",
              "    <tr>\n",
              "      <th>8</th>\n",
              "      <td>график</td>\n",
              "      <td>уборка</td>\n",
              "      <td>общий</td>\n",
              "      <td>пользование</td>\n",
              "      <td>место</td>\n",
              "      <td>место</td>\n",
              "    </tr>\n",
              "    <tr>\n",
              "      <th>9</th>\n",
              "      <td>лепиться</td>\n",
              "      <td>песок</td>\n",
              "      <td>очень</td>\n",
              "      <td>сильно</td>\n",
              "      <td>камень</td>\n",
              "      <td>дверь</td>\n",
              "    </tr>\n",
              "  </tbody>\n",
              "</table>\n",
              "</div>\n",
              "    <div class=\"colab-df-buttons\">\n",
              "\n",
              "  <div class=\"colab-df-container\">\n",
              "    <button class=\"colab-df-convert\" onclick=\"convertToInteractive('df-83e64939-155f-49e7-ad5d-75a9f2eeb369')\"\n",
              "            title=\"Convert this dataframe to an interactive table.\"\n",
              "            style=\"display:none;\">\n",
              "\n",
              "  <svg xmlns=\"http://www.w3.org/2000/svg\" height=\"24px\" viewBox=\"0 -960 960 960\">\n",
              "    <path d=\"M120-120v-720h720v720H120Zm60-500h600v-160H180v160Zm220 220h160v-160H400v160Zm0 220h160v-160H400v160ZM180-400h160v-160H180v160Zm440 0h160v-160H620v160ZM180-180h160v-160H180v160Zm440 0h160v-160H620v160Z\"/>\n",
              "  </svg>\n",
              "    </button>\n",
              "\n",
              "  <style>\n",
              "    .colab-df-container {\n",
              "      display:flex;\n",
              "      gap: 12px;\n",
              "    }\n",
              "\n",
              "    .colab-df-convert {\n",
              "      background-color: #E8F0FE;\n",
              "      border: none;\n",
              "      border-radius: 50%;\n",
              "      cursor: pointer;\n",
              "      display: none;\n",
              "      fill: #1967D2;\n",
              "      height: 32px;\n",
              "      padding: 0 0 0 0;\n",
              "      width: 32px;\n",
              "    }\n",
              "\n",
              "    .colab-df-convert:hover {\n",
              "      background-color: #E2EBFA;\n",
              "      box-shadow: 0px 1px 2px rgba(60, 64, 67, 0.3), 0px 1px 3px 1px rgba(60, 64, 67, 0.15);\n",
              "      fill: #174EA6;\n",
              "    }\n",
              "\n",
              "    .colab-df-buttons div {\n",
              "      margin-bottom: 4px;\n",
              "    }\n",
              "\n",
              "    [theme=dark] .colab-df-convert {\n",
              "      background-color: #3B4455;\n",
              "      fill: #D2E3FC;\n",
              "    }\n",
              "\n",
              "    [theme=dark] .colab-df-convert:hover {\n",
              "      background-color: #434B5C;\n",
              "      box-shadow: 0px 1px 3px 1px rgba(0, 0, 0, 0.15);\n",
              "      filter: drop-shadow(0px 1px 2px rgba(0, 0, 0, 0.3));\n",
              "      fill: #FFFFFF;\n",
              "    }\n",
              "  </style>\n",
              "\n",
              "    <script>\n",
              "      const buttonEl =\n",
              "        document.querySelector('#df-83e64939-155f-49e7-ad5d-75a9f2eeb369 button.colab-df-convert');\n",
              "      buttonEl.style.display =\n",
              "        google.colab.kernel.accessAllowed ? 'block' : 'none';\n",
              "\n",
              "      async function convertToInteractive(key) {\n",
              "        const element = document.querySelector('#df-83e64939-155f-49e7-ad5d-75a9f2eeb369');\n",
              "        const dataTable =\n",
              "          await google.colab.kernel.invokeFunction('convertToInteractive',\n",
              "                                                    [key], {});\n",
              "        if (!dataTable) return;\n",
              "\n",
              "        const docLinkHtml = 'Like what you see? Visit the ' +\n",
              "          '<a target=\"_blank\" href=https://colab.research.google.com/notebooks/data_table.ipynb>data table notebook</a>'\n",
              "          + ' to learn more about interactive tables.';\n",
              "        element.innerHTML = '';\n",
              "        dataTable['output_type'] = 'display_data';\n",
              "        await google.colab.output.renderOutput(dataTable, element);\n",
              "        const docLink = document.createElement('div');\n",
              "        docLink.innerHTML = docLinkHtml;\n",
              "        element.appendChild(docLink);\n",
              "      }\n",
              "    </script>\n",
              "  </div>\n",
              "\n",
              "\n",
              "<div id=\"df-1e9e180d-07df-41b5-b4a8-2bbb73e4e4f7\">\n",
              "  <button class=\"colab-df-quickchart\" onclick=\"quickchart('df-1e9e180d-07df-41b5-b4a8-2bbb73e4e4f7')\"\n",
              "            title=\"Suggest charts\"\n",
              "            style=\"display:none;\">\n",
              "\n",
              "<svg xmlns=\"http://www.w3.org/2000/svg\" height=\"24px\"viewBox=\"0 0 24 24\"\n",
              "     width=\"24px\">\n",
              "    <g>\n",
              "        <path d=\"M19 3H5c-1.1 0-2 .9-2 2v14c0 1.1.9 2 2 2h14c1.1 0 2-.9 2-2V5c0-1.1-.9-2-2-2zM9 17H7v-7h2v7zm4 0h-2V7h2v10zm4 0h-2v-4h2v4z\"/>\n",
              "    </g>\n",
              "</svg>\n",
              "  </button>\n",
              "\n",
              "<style>\n",
              "  .colab-df-quickchart {\n",
              "      --bg-color: #E8F0FE;\n",
              "      --fill-color: #1967D2;\n",
              "      --hover-bg-color: #E2EBFA;\n",
              "      --hover-fill-color: #174EA6;\n",
              "      --disabled-fill-color: #AAA;\n",
              "      --disabled-bg-color: #DDD;\n",
              "  }\n",
              "\n",
              "  [theme=dark] .colab-df-quickchart {\n",
              "      --bg-color: #3B4455;\n",
              "      --fill-color: #D2E3FC;\n",
              "      --hover-bg-color: #434B5C;\n",
              "      --hover-fill-color: #FFFFFF;\n",
              "      --disabled-bg-color: #3B4455;\n",
              "      --disabled-fill-color: #666;\n",
              "  }\n",
              "\n",
              "  .colab-df-quickchart {\n",
              "    background-color: var(--bg-color);\n",
              "    border: none;\n",
              "    border-radius: 50%;\n",
              "    cursor: pointer;\n",
              "    display: none;\n",
              "    fill: var(--fill-color);\n",
              "    height: 32px;\n",
              "    padding: 0;\n",
              "    width: 32px;\n",
              "  }\n",
              "\n",
              "  .colab-df-quickchart:hover {\n",
              "    background-color: var(--hover-bg-color);\n",
              "    box-shadow: 0 1px 2px rgba(60, 64, 67, 0.3), 0 1px 3px 1px rgba(60, 64, 67, 0.15);\n",
              "    fill: var(--button-hover-fill-color);\n",
              "  }\n",
              "\n",
              "  .colab-df-quickchart-complete:disabled,\n",
              "  .colab-df-quickchart-complete:disabled:hover {\n",
              "    background-color: var(--disabled-bg-color);\n",
              "    fill: var(--disabled-fill-color);\n",
              "    box-shadow: none;\n",
              "  }\n",
              "\n",
              "  .colab-df-spinner {\n",
              "    border: 2px solid var(--fill-color);\n",
              "    border-color: transparent;\n",
              "    border-bottom-color: var(--fill-color);\n",
              "    animation:\n",
              "      spin 1s steps(1) infinite;\n",
              "  }\n",
              "\n",
              "  @keyframes spin {\n",
              "    0% {\n",
              "      border-color: transparent;\n",
              "      border-bottom-color: var(--fill-color);\n",
              "      border-left-color: var(--fill-color);\n",
              "    }\n",
              "    20% {\n",
              "      border-color: transparent;\n",
              "      border-left-color: var(--fill-color);\n",
              "      border-top-color: var(--fill-color);\n",
              "    }\n",
              "    30% {\n",
              "      border-color: transparent;\n",
              "      border-left-color: var(--fill-color);\n",
              "      border-top-color: var(--fill-color);\n",
              "      border-right-color: var(--fill-color);\n",
              "    }\n",
              "    40% {\n",
              "      border-color: transparent;\n",
              "      border-right-color: var(--fill-color);\n",
              "      border-top-color: var(--fill-color);\n",
              "    }\n",
              "    60% {\n",
              "      border-color: transparent;\n",
              "      border-right-color: var(--fill-color);\n",
              "    }\n",
              "    80% {\n",
              "      border-color: transparent;\n",
              "      border-right-color: var(--fill-color);\n",
              "      border-bottom-color: var(--fill-color);\n",
              "    }\n",
              "    90% {\n",
              "      border-color: transparent;\n",
              "      border-bottom-color: var(--fill-color);\n",
              "    }\n",
              "  }\n",
              "</style>\n",
              "\n",
              "  <script>\n",
              "    async function quickchart(key) {\n",
              "      const quickchartButtonEl =\n",
              "        document.querySelector('#' + key + ' button');\n",
              "      quickchartButtonEl.disabled = true;  // To prevent multiple clicks.\n",
              "      quickchartButtonEl.classList.add('colab-df-spinner');\n",
              "      try {\n",
              "        const charts = await google.colab.kernel.invokeFunction(\n",
              "            'suggestCharts', [key], {});\n",
              "      } catch (error) {\n",
              "        console.error('Error during call to suggestCharts:', error);\n",
              "      }\n",
              "      quickchartButtonEl.classList.remove('colab-df-spinner');\n",
              "      quickchartButtonEl.classList.add('colab-df-quickchart-complete');\n",
              "    }\n",
              "    (() => {\n",
              "      let quickchartButtonEl =\n",
              "        document.querySelector('#df-1e9e180d-07df-41b5-b4a8-2bbb73e4e4f7 button');\n",
              "      quickchartButtonEl.style.display =\n",
              "        google.colab.kernel.accessAllowed ? 'block' : 'none';\n",
              "    })();\n",
              "  </script>\n",
              "</div>\n",
              "    </div>\n",
              "  </div>\n"
            ],
            "text/plain": [
              "            0           1              2             3     answer     predict\n",
              "0         наш       санкт   пользователь        портал  петербург   петербург\n",
              "1      трясти      момент          мотор         время     запуск    двадцать\n",
              "2  необходимо     стереть   общественный     транспорт  остановка       мусор\n",
              "3       улица     вавилов           семь          корп        дом         дом\n",
              "4       улица  сытнинский  косметический        ремонт   провести        этаж\n",
              "5     который      падать           мочь  продолжаться    убирать     который\n",
              "6     просить   выдолбить          конец   качественно     работа  установить\n",
              "7     дворник   развозить      контейнер    специально   мусорный     который\n",
              "8      график      уборка          общий   пользование      место       место\n",
              "9    лепиться       песок          очень        сильно     камень       дверь"
            ]
          },
          "execution_count": 174,
          "metadata": {},
          "output_type": "execute_result"
        }
      ],
      "source": [
        "context = to_text_func(xtest.numpy())\n",
        "answer = to_text_func(ytest.numpy())\n",
        "predict = to_text_func(predict.max(axis=1).indices.view(-1, 1).numpy())\n",
        "\n",
        "pd.DataFrame(np.hstack((context, answer, predict)), columns=list(range(4)) + [\"answer\", \"predict\"])"
      ]
    }
  ],
  "metadata": {
    "colab": {
      "collapsed_sections": [
        "9zgZjSGzZNTs",
        "ylNXgMvvZUfV",
        "7lubvWa9ZZKX",
        "-pMYVZqfZcJ_",
        "QgOl3jltZm7r",
        "TyG63GVwZsZT"
      ],
      "provenance": []
    },
    "kernelspec": {
      "display_name": "nlp-_HKkRELb-py3.11",
      "language": "python",
      "name": "python3"
    },
    "language_info": {
      "name": "python",
      "version": "3.11.7"
    }
  },
  "nbformat": 4,
  "nbformat_minor": 0
}
