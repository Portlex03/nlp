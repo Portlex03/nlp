{
 "cells": [
  {
   "cell_type": "markdown",
   "metadata": {},
   "source": [
    "# Лабораторная работа №1 \n",
    "## Извлечение признаков из текстовых данных"
   ]
  },
  {
   "cell_type": "markdown",
   "metadata": {},
   "source": [
    "## Импорты"
   ]
  },
  {
   "cell_type": "code",
   "execution_count": 1,
   "metadata": {},
   "outputs": [
    {
     "name": "stderr",
     "output_type": "stream",
     "text": [
      "[nltk_data] Downloading package punkt to\n",
      "[nltk_data]     C:\\Users\\Azerty\\AppData\\Roaming\\nltk_data...\n",
      "[nltk_data]   Package punkt is already up-to-date!\n",
      "[nltk_data] Downloading package punkt_tab to\n",
      "[nltk_data]     C:\\Users\\Azerty\\AppData\\Roaming\\nltk_data...\n",
      "[nltk_data]   Package punkt_tab is already up-to-date!\n",
      "[nltk_data] Downloading package stopwords to\n",
      "[nltk_data]     C:\\Users\\Azerty\\AppData\\Roaming\\nltk_data...\n",
      "[nltk_data]   Package stopwords is already up-to-date!\n"
     ]
    },
    {
     "data": {
      "text/plain": [
       "True"
      ]
     },
     "execution_count": 1,
     "metadata": {},
     "output_type": "execute_result"
    }
   ],
   "source": [
    "import re\n",
    "from tqdm.notebook import tqdm\n",
    "\n",
    "import nltk\n",
    "from nltk.corpus import stopwords\n",
    "from nltk.tokenize import word_tokenize\n",
    "import numpy as np\n",
    "from num2words import num2words\n",
    "import pandas as pd\n",
    "from pymorphy3 import MorphAnalyzer\n",
    "from sklearn.decomposition import PCA\n",
    "\n",
    "nltk.download(\"punkt\")\n",
    "nltk.download(\"punkt_tab\")\n",
    "nltk.download(\"stopwords\")"
   ]
  },
  {
   "cell_type": "markdown",
   "metadata": {},
   "source": [
    "## Загрузка датасета"
   ]
  },
  {
   "cell_type": "code",
   "execution_count": 17,
   "metadata": {},
   "outputs": [
    {
     "data": {
      "text/html": [
       "<div>\n",
       "<style scoped>\n",
       "    .dataframe tbody tr th:only-of-type {\n",
       "        vertical-align: middle;\n",
       "    }\n",
       "\n",
       "    .dataframe tbody tr th {\n",
       "        vertical-align: top;\n",
       "    }\n",
       "\n",
       "    .dataframe thead th {\n",
       "        text-align: right;\n",
       "    }\n",
       "</style>\n",
       "<table border=\"1\" class=\"dataframe\">\n",
       "  <thead>\n",
       "    <tr style=\"text-align: right;\">\n",
       "      <th></th>\n",
       "      <th>id</th>\n",
       "      <th>public_petition_text</th>\n",
       "      <th>reason_category</th>\n",
       "    </tr>\n",
       "  </thead>\n",
       "  <tbody>\n",
       "    <tr>\n",
       "      <th>0</th>\n",
       "      <td>3168490</td>\n",
       "      <td>снег на дороге</td>\n",
       "      <td>Благоустройство</td>\n",
       "    </tr>\n",
       "    <tr>\n",
       "      <th>1</th>\n",
       "      <td>3219678</td>\n",
       "      <td>очистить кабельный киоск от рекламы</td>\n",
       "      <td>Благоустройство</td>\n",
       "    </tr>\n",
       "    <tr>\n",
       "      <th>2</th>\n",
       "      <td>2963920</td>\n",
       "      <td>Просим убрать все деревья и кустарники, которы...</td>\n",
       "      <td>Благоустройство</td>\n",
       "    </tr>\n",
       "    <tr>\n",
       "      <th>3</th>\n",
       "      <td>3374910</td>\n",
       "      <td>Неудовлетворительное состояние парадной - надп...</td>\n",
       "      <td>Содержание МКД</td>\n",
       "    </tr>\n",
       "    <tr>\n",
       "      <th>4</th>\n",
       "      <td>3336285</td>\n",
       "      <td>Граффити</td>\n",
       "      <td>Благоустройство</td>\n",
       "    </tr>\n",
       "  </tbody>\n",
       "</table>\n",
       "</div>"
      ],
      "text/plain": [
       "        id                               public_petition_text  reason_category\n",
       "0  3168490                                     снег на дороге  Благоустройство\n",
       "1  3219678                очистить кабельный киоск от рекламы  Благоустройство\n",
       "2  2963920  Просим убрать все деревья и кустарники, которы...  Благоустройство\n",
       "3  3374910  Неудовлетворительное состояние парадной - надп...   Содержание МКД\n",
       "4  3336285                                           Граффити  Благоустройство"
      ]
     },
     "execution_count": 17,
     "metadata": {},
     "output_type": "execute_result"
    }
   ],
   "source": [
    "petitions = pd.read_csv(\"../datasets/general/petitions.csv\")\n",
    "petitions.head()"
   ]
  },
  {
   "cell_type": "code",
   "execution_count": 18,
   "metadata": {},
   "outputs": [
    {
     "data": {
      "text/plain": [
       "0                                       снег на дороге\n",
       "1                  очистить кабельный киоск от рекламы\n",
       "2    Просим убрать все деревья и кустарники, которы...\n",
       "3    Неудовлетворительное состояние парадной - надп...\n",
       "4                                             Граффити\n",
       "Name: corpus, dtype: object"
      ]
     },
     "metadata": {},
     "output_type": "display_data"
    },
    {
     "data": {
      "text/plain": [
       "(59889,)"
      ]
     },
     "metadata": {},
     "output_type": "display_data"
    }
   ],
   "source": [
    "df_corpus = petitions[\"public_petition_text\"]\n",
    "df_corpus.name = \"corpus\"\n",
    "display(df_corpus[:5], df_corpus.shape)"
   ]
  },
  {
   "cell_type": "markdown",
   "metadata": {},
   "source": [
    "## Предобработка"
   ]
  },
  {
   "cell_type": "code",
   "execution_count": 19,
   "metadata": {},
   "outputs": [
    {
     "data": {
      "text/plain": [
       "np.int64(16749)"
      ]
     },
     "execution_count": 19,
     "metadata": {},
     "output_type": "execute_result"
    }
   ],
   "source": [
    "df_corpus.duplicated().sum()"
   ]
  },
  {
   "cell_type": "code",
   "execution_count": 20,
   "metadata": {},
   "outputs": [
    {
     "data": {
      "text/plain": [
       "(43140,)"
      ]
     },
     "execution_count": 20,
     "metadata": {},
     "output_type": "execute_result"
    }
   ],
   "source": [
    "df_corpus = df_corpus.drop_duplicates()\n",
    "df_corpus.shape"
   ]
  },
  {
   "cell_type": "code",
   "execution_count": 21,
   "metadata": {},
   "outputs": [],
   "source": [
    "def replace_number(number) -> str:\n",
    "    return \" \" + num2words(number.group(0), lang=\"ru\") + \" \"\n",
    "\n",
    "\n",
    "def replace_several_words(text: str, replacements: dict[str, str]) -> str:\n",
    "    for pattern, replacement in replacements.items():\n",
    "        text = re.sub(pattern, replacement, text)\n",
    "    return text\n",
    "\n",
    "\n",
    "def preprocess(text: str):\n",
    "    # ссылки\n",
    "    pattern = r\"http[s]?://(?:[a-zA-Z]|[0-9]|[$-_@.&+]|[!*\\(\\),]|(?:%[0-9a-fA-F][0-9a-fA-F]))+\"\n",
    "    text = re.sub(pattern, \"\", text)\n",
    "    # числа\n",
    "    text = re.sub(r\"\\d+\", replace_number, text)\n",
    "    # замена слов\n",
    "    replacements = {\n",
    "        r\"\\bд\\b\": \"дом\",\n",
    "        r\"\\bкв\\b\": \"квартира\",\n",
    "        r\"\\bул\\b\": \"улица\",\n",
    "        r\"\\bк\\b\": \"квартира\",\n",
    "    }\n",
    "    text = replace_several_words(text, replacements)\n",
    "    # удалить все символы кроме слов\n",
    "    text = re.sub(r\"[_\\W]+\", \" \", text)\n",
    "    # удалить все слова кроме русских\n",
    "    text = re.sub(r\"[^а-яА-ЯёЁ\\s]\", \"\", text)\n",
    "    return text"
   ]
  },
  {
   "cell_type": "code",
   "execution_count": 22,
   "metadata": {},
   "outputs": [
    {
     "data": {
      "text/plain": [
       "0                                       снег на дороге\n",
       "1                  очистить кабельный киоск от рекламы\n",
       "2    Просим убрать все деревья и кустарники которые...\n",
       "3    Неудовлетворительное состояние парадной надпис...\n",
       "4                                             Граффити\n",
       "Name: corpus, dtype: object"
      ]
     },
     "execution_count": 22,
     "metadata": {},
     "output_type": "execute_result"
    }
   ],
   "source": [
    "preprocessed_corpus = df_corpus.apply(preprocess)\n",
    "preprocessed_corpus.head()"
   ]
  },
  {
   "cell_type": "markdown",
   "metadata": {},
   "source": [
    "## Токенизация"
   ]
  },
  {
   "cell_type": "code",
   "execution_count": 23,
   "metadata": {},
   "outputs": [],
   "source": [
    "def tokenize(text: str) -> list[str]:\n",
    "    return word_tokenize(text, language=\"russian\")"
   ]
  },
  {
   "cell_type": "code",
   "execution_count": 24,
   "metadata": {},
   "outputs": [
    {
     "data": {
      "text/plain": [
       "0                                   [снег, на, дороге]\n",
       "1            [очистить, кабельный, киоск, от, рекламы]\n",
       "2    [Просим, убрать, все, деревья, и, кустарники, ...\n",
       "3    [Неудовлетворительное, состояние, парадной, на...\n",
       "4                                           [Граффити]\n",
       "Name: corpus, dtype: object"
      ]
     },
     "execution_count": 24,
     "metadata": {},
     "output_type": "execute_result"
    }
   ],
   "source": [
    "tokenized_corpus = preprocessed_corpus.apply(tokenize)\n",
    "tokenized_corpus[:5]"
   ]
  },
  {
   "cell_type": "markdown",
   "metadata": {},
   "source": [
    "## Нормализация"
   ]
  },
  {
   "cell_type": "code",
   "execution_count": 25,
   "metadata": {},
   "outputs": [],
   "source": [
    "morph = MorphAnalyzer(lang=\"ru\")\n",
    "threshold = 0.45\n",
    "\n",
    "\n",
    "def normalize(text: list[str]) -> list[str]:\n",
    "    changed_text = []\n",
    "    for word in text:\n",
    "        parse = morph.parse(word)[0]\n",
    "        if parse.score >= threshold:\n",
    "            changed_text.append(parse.normal_form)\n",
    "    return changed_text"
   ]
  },
  {
   "cell_type": "code",
   "execution_count": 26,
   "metadata": {},
   "outputs": [
    {
     "data": {
      "text/plain": [
       "0                                   [снег, на, дорога]\n",
       "1            [очистить, кабельный, киоск, от, реклама]\n",
       "2    [просить, убрать, всё, дерево, и, кустарник, к...\n",
       "3          [неудовлетворительный, состояние, на, этаж]\n",
       "4                                                   []\n",
       "Name: corpus, dtype: object"
      ]
     },
     "execution_count": 26,
     "metadata": {},
     "output_type": "execute_result"
    }
   ],
   "source": [
    "normalized_corpus = tokenized_corpus.apply(normalize)\n",
    "normalized_corpus[:5]"
   ]
  },
  {
   "cell_type": "markdown",
   "metadata": {},
   "source": [
    "## Стоп-слова"
   ]
  },
  {
   "cell_type": "code",
   "execution_count": 27,
   "metadata": {},
   "outputs": [],
   "source": [
    "stop_words = stopwords.words(\"russian\")\n",
    "\n",
    "\n",
    "def delete_stopwords(text: list[str]) -> list[str]:\n",
    "    return [word for word in text if word not in stop_words]"
   ]
  },
  {
   "cell_type": "code",
   "execution_count": 28,
   "metadata": {},
   "outputs": [
    {
     "data": {
      "text/plain": [
       "0                                       [снег, дорога]\n",
       "1                [очистить, кабельный, киоск, реклама]\n",
       "2    [просить, убрать, всё, дерево, кустарник, кото...\n",
       "3              [неудовлетворительный, состояние, этаж]\n",
       "4                                                   []\n",
       "Name: corpus, dtype: object"
      ]
     },
     "execution_count": 28,
     "metadata": {},
     "output_type": "execute_result"
    }
   ],
   "source": [
    "filtered_corpus = normalized_corpus.apply(delete_stopwords)\n",
    "filtered_corpus[:5]"
   ]
  },
  {
   "cell_type": "markdown",
   "metadata": {},
   "source": [
    "## Удаление редкоупотребляемых слов"
   ]
  },
  {
   "cell_type": "code",
   "execution_count": 29,
   "metadata": {},
   "outputs": [
    {
     "data": {
      "text/plain": [
       "513543"
      ]
     },
     "execution_count": 29,
     "metadata": {},
     "output_type": "execute_result"
    }
   ],
   "source": [
    "vocabulary = [word for doc in filtered_corpus for word in doc]\n",
    "len(vocabulary)"
   ]
  },
  {
   "cell_type": "code",
   "execution_count": null,
   "metadata": {},
   "outputs": [],
   "source": [
    "freaquency = pd.Series()\n",
    "for word in tqdm(set(vocabulary)):\n",
    "    freaquency.loc[word] = vocabulary.count(word)\n",
    "\n",
    "# freaquency.to_csv(\"../datasets/lab1-feature_extraction/freaquency.csv\")"
   ]
  },
  {
   "cell_type": "code",
   "execution_count": 52,
   "metadata": {},
   "outputs": [],
   "source": [
    "def delete_rare_words(doc: list[str], min_count: int = 5) -> list[str]:\n",
    "    return list(filter(lambda word: freaquency.loc[word] >= min_count, doc))\n"
   ]
  },
  {
   "cell_type": "code",
   "execution_count": 65,
   "metadata": {},
   "outputs": [
    {
     "data": {
      "text/plain": [
       "0                                       [снег, дорога]\n",
       "1                [очистить, кабельный, киоск, реклама]\n",
       "2    [просить, убрать, всё, дерево, кустарник, кото...\n",
       "3              [неудовлетворительный, состояние, этаж]\n",
       "4                                                   []\n",
       "5    [необходимо, проверить, законность, установка,...\n",
       "6    [уборка, производиться, лестница, очень, грязн...\n",
       "7                                              [мусор]\n",
       "8    [отсутствовать, освещение, площадка, шесть, се...\n",
       "9    [делать, благоустройство, никто, убирать, мусо...\n",
       "Name: corpus, dtype: object"
      ]
     },
     "metadata": {},
     "output_type": "display_data"
    },
    {
     "data": {
      "text/plain": [
       "43140"
      ]
     },
     "metadata": {},
     "output_type": "display_data"
    }
   ],
   "source": [
    "corpus = filtered_corpus.apply(delete_rare_words, min_count=5)\n",
    "display(corpus[:10], len(corpus))"
   ]
  },
  {
   "cell_type": "code",
   "execution_count": 66,
   "metadata": {},
   "outputs": [
    {
     "data": {
      "text/plain": [
       "2     [просить, убрать, всё, дерево, кустарник, кото...\n",
       "5     [необходимо, проверить, законность, установка,...\n",
       "6     [уборка, производиться, лестница, очень, грязн...\n",
       "8     [отсутствовать, освещение, площадка, шесть, се...\n",
       "9     [делать, благоустройство, никто, убирать, мусо...\n",
       "15    [пожалуйста, удалить, бетонный, арматура, газо...\n",
       "17    [ланский, дом, двенадцать, квартира, парадный,...\n",
       "18           [кривой, висеть, просьба, поправить, этаж]\n",
       "19    [плохой, уборка, улица, мусор, тротуар, газон,...\n",
       "23    [демонтаж, рекламный, вывеска, фасад, образова...\n",
       "Name: corpus, dtype: object"
      ]
     },
     "metadata": {},
     "output_type": "display_data"
    },
    {
     "data": {
      "text/plain": [
       "29359"
      ]
     },
     "metadata": {},
     "output_type": "display_data"
    }
   ],
   "source": [
    "corpus = corpus[corpus.apply(lambda doc: len(doc) >= 5)]\n",
    "display(corpus[:10], len(corpus))"
   ]
  },
  {
   "cell_type": "code",
   "execution_count": 57,
   "metadata": {},
   "outputs": [],
   "source": [
    "# corpus.apply(\" \".join).to_csv(\"../datasets/lab1-feature_extraction/corpus.csv\", index=False)"
   ]
  },
  {
   "cell_type": "markdown",
   "metadata": {},
   "source": [
    "## Матрица контекстных эмбеддингов"
   ]
  },
  {
   "cell_type": "code",
   "execution_count": 8,
   "metadata": {},
   "outputs": [
    {
     "data": {
      "text/plain": [
       "['абп',\n",
       " 'абрамов',\n",
       " 'абсолютно',\n",
       " 'авангардный',\n",
       " 'аварийка',\n",
       " 'аварийность',\n",
       " 'аварийный',\n",
       " 'авария',\n",
       " 'август',\n",
       " 'авиаконструктор']"
      ]
     },
     "metadata": {},
     "output_type": "display_data"
    },
    {
     "data": {
      "text/plain": [
       "5190"
      ]
     },
     "metadata": {},
     "output_type": "display_data"
    }
   ],
   "source": [
    "vocabulary = sorted(set([word for doc in corpus for word in doc]))\n",
    "display(vocabulary[:10], len(vocabulary))"
   ]
  },
  {
   "cell_type": "code",
   "execution_count": 67,
   "metadata": {},
   "outputs": [
    {
     "data": {
      "text/html": [
       "<div>\n",
       "<style scoped>\n",
       "    .dataframe tbody tr th:only-of-type {\n",
       "        vertical-align: middle;\n",
       "    }\n",
       "\n",
       "    .dataframe tbody tr th {\n",
       "        vertical-align: top;\n",
       "    }\n",
       "\n",
       "    .dataframe thead th {\n",
       "        text-align: right;\n",
       "    }\n",
       "</style>\n",
       "<table border=\"1\" class=\"dataframe\">\n",
       "  <thead>\n",
       "    <tr style=\"text-align: right;\">\n",
       "      <th></th>\n",
       "      <th>абп</th>\n",
       "      <th>абрамов</th>\n",
       "      <th>абсолютно</th>\n",
       "      <th>авангардный</th>\n",
       "      <th>аварийка</th>\n",
       "      <th>аварийность</th>\n",
       "      <th>аварийный</th>\n",
       "      <th>авария</th>\n",
       "      <th>август</th>\n",
       "      <th>авиаконструктор</th>\n",
       "      <th>...</th>\n",
       "      <th>яндекс</th>\n",
       "      <th>яркий</th>\n",
       "      <th>ярко</th>\n",
       "      <th>ярмарка</th>\n",
       "      <th>ярослав</th>\n",
       "      <th>ярославский</th>\n",
       "      <th>ярус</th>\n",
       "      <th>яхтенный</th>\n",
       "      <th>ящик</th>\n",
       "      <th>ёлка</th>\n",
       "    </tr>\n",
       "  </thead>\n",
       "  <tbody>\n",
       "    <tr>\n",
       "      <th>абп</th>\n",
       "      <td>0</td>\n",
       "      <td>0</td>\n",
       "      <td>0</td>\n",
       "      <td>0</td>\n",
       "      <td>0</td>\n",
       "      <td>0</td>\n",
       "      <td>0</td>\n",
       "      <td>0</td>\n",
       "      <td>0</td>\n",
       "      <td>0</td>\n",
       "      <td>...</td>\n",
       "      <td>0</td>\n",
       "      <td>0</td>\n",
       "      <td>0</td>\n",
       "      <td>0</td>\n",
       "      <td>0</td>\n",
       "      <td>0</td>\n",
       "      <td>0</td>\n",
       "      <td>0</td>\n",
       "      <td>0</td>\n",
       "      <td>0</td>\n",
       "    </tr>\n",
       "    <tr>\n",
       "      <th>абрамов</th>\n",
       "      <td>0</td>\n",
       "      <td>0</td>\n",
       "      <td>0</td>\n",
       "      <td>0</td>\n",
       "      <td>0</td>\n",
       "      <td>0</td>\n",
       "      <td>0</td>\n",
       "      <td>0</td>\n",
       "      <td>0</td>\n",
       "      <td>0</td>\n",
       "      <td>...</td>\n",
       "      <td>0</td>\n",
       "      <td>0</td>\n",
       "      <td>0</td>\n",
       "      <td>0</td>\n",
       "      <td>0</td>\n",
       "      <td>0</td>\n",
       "      <td>0</td>\n",
       "      <td>0</td>\n",
       "      <td>0</td>\n",
       "      <td>0</td>\n",
       "    </tr>\n",
       "    <tr>\n",
       "      <th>абсолютно</th>\n",
       "      <td>0</td>\n",
       "      <td>0</td>\n",
       "      <td>0</td>\n",
       "      <td>0</td>\n",
       "      <td>0</td>\n",
       "      <td>0</td>\n",
       "      <td>0</td>\n",
       "      <td>0</td>\n",
       "      <td>0</td>\n",
       "      <td>0</td>\n",
       "      <td>...</td>\n",
       "      <td>0</td>\n",
       "      <td>0</td>\n",
       "      <td>0</td>\n",
       "      <td>0</td>\n",
       "      <td>0</td>\n",
       "      <td>0</td>\n",
       "      <td>0</td>\n",
       "      <td>0</td>\n",
       "      <td>0</td>\n",
       "      <td>0</td>\n",
       "    </tr>\n",
       "    <tr>\n",
       "      <th>авангардный</th>\n",
       "      <td>0</td>\n",
       "      <td>0</td>\n",
       "      <td>0</td>\n",
       "      <td>0</td>\n",
       "      <td>0</td>\n",
       "      <td>0</td>\n",
       "      <td>0</td>\n",
       "      <td>0</td>\n",
       "      <td>0</td>\n",
       "      <td>0</td>\n",
       "      <td>...</td>\n",
       "      <td>0</td>\n",
       "      <td>0</td>\n",
       "      <td>0</td>\n",
       "      <td>0</td>\n",
       "      <td>0</td>\n",
       "      <td>0</td>\n",
       "      <td>0</td>\n",
       "      <td>0</td>\n",
       "      <td>0</td>\n",
       "      <td>0</td>\n",
       "    </tr>\n",
       "    <tr>\n",
       "      <th>аварийка</th>\n",
       "      <td>0</td>\n",
       "      <td>0</td>\n",
       "      <td>0</td>\n",
       "      <td>0</td>\n",
       "      <td>0</td>\n",
       "      <td>0</td>\n",
       "      <td>0</td>\n",
       "      <td>0</td>\n",
       "      <td>0</td>\n",
       "      <td>0</td>\n",
       "      <td>...</td>\n",
       "      <td>0</td>\n",
       "      <td>0</td>\n",
       "      <td>0</td>\n",
       "      <td>0</td>\n",
       "      <td>0</td>\n",
       "      <td>0</td>\n",
       "      <td>0</td>\n",
       "      <td>0</td>\n",
       "      <td>0</td>\n",
       "      <td>0</td>\n",
       "    </tr>\n",
       "    <tr>\n",
       "      <th>...</th>\n",
       "      <td>...</td>\n",
       "      <td>...</td>\n",
       "      <td>...</td>\n",
       "      <td>...</td>\n",
       "      <td>...</td>\n",
       "      <td>...</td>\n",
       "      <td>...</td>\n",
       "      <td>...</td>\n",
       "      <td>...</td>\n",
       "      <td>...</td>\n",
       "      <td>...</td>\n",
       "      <td>...</td>\n",
       "      <td>...</td>\n",
       "      <td>...</td>\n",
       "      <td>...</td>\n",
       "      <td>...</td>\n",
       "      <td>...</td>\n",
       "      <td>...</td>\n",
       "      <td>...</td>\n",
       "      <td>...</td>\n",
       "      <td>...</td>\n",
       "    </tr>\n",
       "    <tr>\n",
       "      <th>ярославский</th>\n",
       "      <td>0</td>\n",
       "      <td>0</td>\n",
       "      <td>0</td>\n",
       "      <td>0</td>\n",
       "      <td>0</td>\n",
       "      <td>0</td>\n",
       "      <td>0</td>\n",
       "      <td>0</td>\n",
       "      <td>0</td>\n",
       "      <td>0</td>\n",
       "      <td>...</td>\n",
       "      <td>0</td>\n",
       "      <td>0</td>\n",
       "      <td>0</td>\n",
       "      <td>0</td>\n",
       "      <td>0</td>\n",
       "      <td>0</td>\n",
       "      <td>0</td>\n",
       "      <td>0</td>\n",
       "      <td>0</td>\n",
       "      <td>0</td>\n",
       "    </tr>\n",
       "    <tr>\n",
       "      <th>ярус</th>\n",
       "      <td>0</td>\n",
       "      <td>0</td>\n",
       "      <td>0</td>\n",
       "      <td>0</td>\n",
       "      <td>0</td>\n",
       "      <td>0</td>\n",
       "      <td>0</td>\n",
       "      <td>0</td>\n",
       "      <td>0</td>\n",
       "      <td>0</td>\n",
       "      <td>...</td>\n",
       "      <td>0</td>\n",
       "      <td>0</td>\n",
       "      <td>0</td>\n",
       "      <td>0</td>\n",
       "      <td>0</td>\n",
       "      <td>0</td>\n",
       "      <td>0</td>\n",
       "      <td>0</td>\n",
       "      <td>0</td>\n",
       "      <td>0</td>\n",
       "    </tr>\n",
       "    <tr>\n",
       "      <th>яхтенный</th>\n",
       "      <td>0</td>\n",
       "      <td>0</td>\n",
       "      <td>0</td>\n",
       "      <td>0</td>\n",
       "      <td>0</td>\n",
       "      <td>0</td>\n",
       "      <td>0</td>\n",
       "      <td>0</td>\n",
       "      <td>0</td>\n",
       "      <td>0</td>\n",
       "      <td>...</td>\n",
       "      <td>0</td>\n",
       "      <td>0</td>\n",
       "      <td>0</td>\n",
       "      <td>0</td>\n",
       "      <td>0</td>\n",
       "      <td>0</td>\n",
       "      <td>0</td>\n",
       "      <td>0</td>\n",
       "      <td>0</td>\n",
       "      <td>0</td>\n",
       "    </tr>\n",
       "    <tr>\n",
       "      <th>ящик</th>\n",
       "      <td>0</td>\n",
       "      <td>0</td>\n",
       "      <td>0</td>\n",
       "      <td>0</td>\n",
       "      <td>0</td>\n",
       "      <td>0</td>\n",
       "      <td>0</td>\n",
       "      <td>0</td>\n",
       "      <td>0</td>\n",
       "      <td>0</td>\n",
       "      <td>...</td>\n",
       "      <td>0</td>\n",
       "      <td>0</td>\n",
       "      <td>0</td>\n",
       "      <td>0</td>\n",
       "      <td>0</td>\n",
       "      <td>0</td>\n",
       "      <td>0</td>\n",
       "      <td>0</td>\n",
       "      <td>0</td>\n",
       "      <td>0</td>\n",
       "    </tr>\n",
       "    <tr>\n",
       "      <th>ёлка</th>\n",
       "      <td>0</td>\n",
       "      <td>0</td>\n",
       "      <td>0</td>\n",
       "      <td>0</td>\n",
       "      <td>0</td>\n",
       "      <td>0</td>\n",
       "      <td>0</td>\n",
       "      <td>0</td>\n",
       "      <td>0</td>\n",
       "      <td>0</td>\n",
       "      <td>...</td>\n",
       "      <td>0</td>\n",
       "      <td>0</td>\n",
       "      <td>0</td>\n",
       "      <td>0</td>\n",
       "      <td>0</td>\n",
       "      <td>0</td>\n",
       "      <td>0</td>\n",
       "      <td>0</td>\n",
       "      <td>0</td>\n",
       "      <td>0</td>\n",
       "    </tr>\n",
       "  </tbody>\n",
       "</table>\n",
       "<p>5190 rows × 5190 columns</p>\n",
       "</div>"
      ],
      "text/plain": [
       "             абп  абрамов  абсолютно  авангардный  аварийка  аварийность  \\\n",
       "абп            0        0          0            0         0            0   \n",
       "абрамов        0        0          0            0         0            0   \n",
       "абсолютно      0        0          0            0         0            0   \n",
       "авангардный    0        0          0            0         0            0   \n",
       "аварийка       0        0          0            0         0            0   \n",
       "...          ...      ...        ...          ...       ...          ...   \n",
       "ярославский    0        0          0            0         0            0   \n",
       "ярус           0        0          0            0         0            0   \n",
       "яхтенный       0        0          0            0         0            0   \n",
       "ящик           0        0          0            0         0            0   \n",
       "ёлка           0        0          0            0         0            0   \n",
       "\n",
       "             аварийный  авария  август  авиаконструктор  ...  яндекс  яркий  \\\n",
       "абп                  0       0       0                0  ...       0      0   \n",
       "абрамов              0       0       0                0  ...       0      0   \n",
       "абсолютно            0       0       0                0  ...       0      0   \n",
       "авангардный          0       0       0                0  ...       0      0   \n",
       "аварийка             0       0       0                0  ...       0      0   \n",
       "...                ...     ...     ...              ...  ...     ...    ...   \n",
       "ярославский          0       0       0                0  ...       0      0   \n",
       "ярус                 0       0       0                0  ...       0      0   \n",
       "яхтенный             0       0       0                0  ...       0      0   \n",
       "ящик                 0       0       0                0  ...       0      0   \n",
       "ёлка                 0       0       0                0  ...       0      0   \n",
       "\n",
       "             ярко  ярмарка  ярослав  ярославский  ярус  яхтенный  ящик  ёлка  \n",
       "абп             0        0        0            0     0         0     0     0  \n",
       "абрамов         0        0        0            0     0         0     0     0  \n",
       "абсолютно       0        0        0            0     0         0     0     0  \n",
       "авангардный     0        0        0            0     0         0     0     0  \n",
       "аварийка        0        0        0            0     0         0     0     0  \n",
       "...           ...      ...      ...          ...   ...       ...   ...   ...  \n",
       "ярославский     0        0        0            0     0         0     0     0  \n",
       "ярус            0        0        0            0     0         0     0     0  \n",
       "яхтенный        0        0        0            0     0         0     0     0  \n",
       "ящик            0        0        0            0     0         0     0     0  \n",
       "ёлка            0        0        0            0     0         0     0     0  \n",
       "\n",
       "[5190 rows x 5190 columns]"
      ]
     },
     "execution_count": 67,
     "metadata": {},
     "output_type": "execute_result"
    }
   ],
   "source": [
    "N = len(vocabulary)\n",
    "context_embeddings = pd.DataFrame(\n",
    "    data=np.zeros((N, N)),\n",
    "    index=vocabulary,\n",
    "    columns=vocabulary,\n",
    "    dtype=np.int16\n",
    ")\n",
    "context_embeddings"
   ]
  },
  {
   "cell_type": "code",
   "execution_count": null,
   "metadata": {},
   "outputs": [],
   "source": [
    "for doc in tqdm(corpus):\n",
    "    for i in range(len(doc) - 2):\n",
    "        main_word = doc[i]\n",
    "        for word in doc[i + 1 : i + 3]:\n",
    "            context_embeddings.loc[main_word, word] += 1\n",
    "            context_embeddings.loc[word, main_word] += 1\n",
    "\n",
    "# context_embeddings.to_csv(\"../datasets/lab1-feature_extraction/context_embeddings.csv\")"
   ]
  },
  {
   "cell_type": "code",
   "execution_count": 10,
   "metadata": {},
   "outputs": [
    {
     "data": {
      "text/html": [
       "<div>\n",
       "<style scoped>\n",
       "    .dataframe tbody tr th:only-of-type {\n",
       "        vertical-align: middle;\n",
       "    }\n",
       "\n",
       "    .dataframe tbody tr th {\n",
       "        vertical-align: top;\n",
       "    }\n",
       "\n",
       "    .dataframe thead th {\n",
       "        text-align: right;\n",
       "    }\n",
       "</style>\n",
       "<table border=\"1\" class=\"dataframe\">\n",
       "  <thead>\n",
       "    <tr style=\"text-align: right;\">\n",
       "      <th></th>\n",
       "      <th>0</th>\n",
       "      <th>1</th>\n",
       "      <th>2</th>\n",
       "      <th>3</th>\n",
       "      <th>4</th>\n",
       "      <th>5</th>\n",
       "      <th>6</th>\n",
       "      <th>7</th>\n",
       "      <th>8</th>\n",
       "      <th>9</th>\n",
       "      <th>...</th>\n",
       "      <th>190</th>\n",
       "      <th>191</th>\n",
       "      <th>192</th>\n",
       "      <th>193</th>\n",
       "      <th>194</th>\n",
       "      <th>195</th>\n",
       "      <th>196</th>\n",
       "      <th>197</th>\n",
       "      <th>198</th>\n",
       "      <th>199</th>\n",
       "    </tr>\n",
       "    <tr>\n",
       "      <th>word</th>\n",
       "      <th></th>\n",
       "      <th></th>\n",
       "      <th></th>\n",
       "      <th></th>\n",
       "      <th></th>\n",
       "      <th></th>\n",
       "      <th></th>\n",
       "      <th></th>\n",
       "      <th></th>\n",
       "      <th></th>\n",
       "      <th></th>\n",
       "      <th></th>\n",
       "      <th></th>\n",
       "      <th></th>\n",
       "      <th></th>\n",
       "      <th></th>\n",
       "      <th></th>\n",
       "      <th></th>\n",
       "      <th></th>\n",
       "      <th></th>\n",
       "      <th></th>\n",
       "    </tr>\n",
       "  </thead>\n",
       "  <tbody>\n",
       "    <tr>\n",
       "      <th>абп</th>\n",
       "      <td>-13.745661</td>\n",
       "      <td>6.144555</td>\n",
       "      <td>1.672390</td>\n",
       "      <td>-0.837235</td>\n",
       "      <td>-3.745957</td>\n",
       "      <td>-0.866193</td>\n",
       "      <td>-0.170243</td>\n",
       "      <td>0.518571</td>\n",
       "      <td>1.121641</td>\n",
       "      <td>-1.053889</td>\n",
       "      <td>...</td>\n",
       "      <td>-0.124310</td>\n",
       "      <td>-0.076910</td>\n",
       "      <td>0.048945</td>\n",
       "      <td>0.031750</td>\n",
       "      <td>0.007667</td>\n",
       "      <td>-0.038009</td>\n",
       "      <td>0.168864</td>\n",
       "      <td>0.000495</td>\n",
       "      <td>-0.130860</td>\n",
       "      <td>0.141327</td>\n",
       "    </tr>\n",
       "    <tr>\n",
       "      <th>абрамов</th>\n",
       "      <td>-3.991519</td>\n",
       "      <td>1.339566</td>\n",
       "      <td>11.473537</td>\n",
       "      <td>-3.064182</td>\n",
       "      <td>-5.942729</td>\n",
       "      <td>-3.422678</td>\n",
       "      <td>2.007564</td>\n",
       "      <td>2.223933</td>\n",
       "      <td>2.904329</td>\n",
       "      <td>-3.163823</td>\n",
       "      <td>...</td>\n",
       "      <td>-1.809141</td>\n",
       "      <td>-0.098477</td>\n",
       "      <td>-0.810195</td>\n",
       "      <td>-0.452103</td>\n",
       "      <td>-0.543618</td>\n",
       "      <td>1.680041</td>\n",
       "      <td>0.453972</td>\n",
       "      <td>-0.655151</td>\n",
       "      <td>-0.514539</td>\n",
       "      <td>-0.426249</td>\n",
       "    </tr>\n",
       "    <tr>\n",
       "      <th>абсолютно</th>\n",
       "      <td>-11.821876</td>\n",
       "      <td>2.943006</td>\n",
       "      <td>-1.280718</td>\n",
       "      <td>-0.987937</td>\n",
       "      <td>-1.371568</td>\n",
       "      <td>-1.522340</td>\n",
       "      <td>-0.233250</td>\n",
       "      <td>-0.602862</td>\n",
       "      <td>2.170925</td>\n",
       "      <td>-0.611029</td>\n",
       "      <td>...</td>\n",
       "      <td>0.308653</td>\n",
       "      <td>0.359587</td>\n",
       "      <td>0.387458</td>\n",
       "      <td>-0.257858</td>\n",
       "      <td>0.229763</td>\n",
       "      <td>-0.563574</td>\n",
       "      <td>0.312862</td>\n",
       "      <td>-0.277851</td>\n",
       "      <td>0.412213</td>\n",
       "      <td>-0.883354</td>\n",
       "    </tr>\n",
       "    <tr>\n",
       "      <th>авангардный</th>\n",
       "      <td>-7.512660</td>\n",
       "      <td>4.299288</td>\n",
       "      <td>8.587495</td>\n",
       "      <td>-1.755458</td>\n",
       "      <td>-5.053628</td>\n",
       "      <td>1.171524</td>\n",
       "      <td>0.330959</td>\n",
       "      <td>1.959238</td>\n",
       "      <td>3.094127</td>\n",
       "      <td>0.620284</td>\n",
       "      <td>...</td>\n",
       "      <td>-0.382019</td>\n",
       "      <td>0.042043</td>\n",
       "      <td>-0.119812</td>\n",
       "      <td>-0.030248</td>\n",
       "      <td>-0.457969</td>\n",
       "      <td>0.764405</td>\n",
       "      <td>0.292025</td>\n",
       "      <td>-0.466514</td>\n",
       "      <td>-0.159710</td>\n",
       "      <td>-0.276336</td>\n",
       "    </tr>\n",
       "    <tr>\n",
       "      <th>аварийка</th>\n",
       "      <td>-12.834715</td>\n",
       "      <td>5.345289</td>\n",
       "      <td>1.413563</td>\n",
       "      <td>-0.377485</td>\n",
       "      <td>-3.892651</td>\n",
       "      <td>-0.032718</td>\n",
       "      <td>0.037899</td>\n",
       "      <td>0.643811</td>\n",
       "      <td>1.148384</td>\n",
       "      <td>-1.069906</td>\n",
       "      <td>...</td>\n",
       "      <td>-0.308458</td>\n",
       "      <td>-0.167686</td>\n",
       "      <td>0.190215</td>\n",
       "      <td>0.444776</td>\n",
       "      <td>-0.127919</td>\n",
       "      <td>0.217852</td>\n",
       "      <td>0.118530</td>\n",
       "      <td>-0.164167</td>\n",
       "      <td>0.000987</td>\n",
       "      <td>-0.000986</td>\n",
       "    </tr>\n",
       "    <tr>\n",
       "      <th>...</th>\n",
       "      <td>...</td>\n",
       "      <td>...</td>\n",
       "      <td>...</td>\n",
       "      <td>...</td>\n",
       "      <td>...</td>\n",
       "      <td>...</td>\n",
       "      <td>...</td>\n",
       "      <td>...</td>\n",
       "      <td>...</td>\n",
       "      <td>...</td>\n",
       "      <td>...</td>\n",
       "      <td>...</td>\n",
       "      <td>...</td>\n",
       "      <td>...</td>\n",
       "      <td>...</td>\n",
       "      <td>...</td>\n",
       "      <td>...</td>\n",
       "      <td>...</td>\n",
       "      <td>...</td>\n",
       "      <td>...</td>\n",
       "      <td>...</td>\n",
       "    </tr>\n",
       "    <tr>\n",
       "      <th>ярославский</th>\n",
       "      <td>-13.313072</td>\n",
       "      <td>6.173671</td>\n",
       "      <td>1.877300</td>\n",
       "      <td>-1.076308</td>\n",
       "      <td>-3.661942</td>\n",
       "      <td>-0.843670</td>\n",
       "      <td>-0.222866</td>\n",
       "      <td>0.142208</td>\n",
       "      <td>1.326214</td>\n",
       "      <td>-0.887128</td>\n",
       "      <td>...</td>\n",
       "      <td>0.078221</td>\n",
       "      <td>-0.057317</td>\n",
       "      <td>-0.069204</td>\n",
       "      <td>0.072322</td>\n",
       "      <td>-0.108619</td>\n",
       "      <td>-0.022130</td>\n",
       "      <td>0.102530</td>\n",
       "      <td>-0.009779</td>\n",
       "      <td>-0.023583</td>\n",
       "      <td>-0.048692</td>\n",
       "    </tr>\n",
       "    <tr>\n",
       "      <th>ярус</th>\n",
       "      <td>-13.842405</td>\n",
       "      <td>5.429180</td>\n",
       "      <td>-0.656739</td>\n",
       "      <td>-1.208449</td>\n",
       "      <td>-4.329737</td>\n",
       "      <td>-1.969817</td>\n",
       "      <td>-2.195102</td>\n",
       "      <td>-0.043728</td>\n",
       "      <td>0.903244</td>\n",
       "      <td>-0.638368</td>\n",
       "      <td>...</td>\n",
       "      <td>0.127138</td>\n",
       "      <td>-0.084120</td>\n",
       "      <td>0.125608</td>\n",
       "      <td>-0.524010</td>\n",
       "      <td>0.073769</td>\n",
       "      <td>0.107086</td>\n",
       "      <td>0.562880</td>\n",
       "      <td>0.067568</td>\n",
       "      <td>-0.627302</td>\n",
       "      <td>0.082190</td>\n",
       "    </tr>\n",
       "    <tr>\n",
       "      <th>яхтенный</th>\n",
       "      <td>-8.942939</td>\n",
       "      <td>4.312625</td>\n",
       "      <td>6.144215</td>\n",
       "      <td>-2.528917</td>\n",
       "      <td>-5.094325</td>\n",
       "      <td>-3.421365</td>\n",
       "      <td>0.679796</td>\n",
       "      <td>2.320170</td>\n",
       "      <td>2.383721</td>\n",
       "      <td>-0.365530</td>\n",
       "      <td>...</td>\n",
       "      <td>-0.387536</td>\n",
       "      <td>-0.467000</td>\n",
       "      <td>-0.279117</td>\n",
       "      <td>0.079510</td>\n",
       "      <td>-0.328350</td>\n",
       "      <td>0.893941</td>\n",
       "      <td>0.662707</td>\n",
       "      <td>-0.504196</td>\n",
       "      <td>-0.241658</td>\n",
       "      <td>0.203533</td>\n",
       "    </tr>\n",
       "    <tr>\n",
       "      <th>ящик</th>\n",
       "      <td>28.061394</td>\n",
       "      <td>-37.385658</td>\n",
       "      <td>-31.492122</td>\n",
       "      <td>-4.315065</td>\n",
       "      <td>-0.786903</td>\n",
       "      <td>-2.306037</td>\n",
       "      <td>4.680621</td>\n",
       "      <td>-2.915947</td>\n",
       "      <td>-21.778038</td>\n",
       "      <td>7.318800</td>\n",
       "      <td>...</td>\n",
       "      <td>0.474253</td>\n",
       "      <td>1.126697</td>\n",
       "      <td>-4.235314</td>\n",
       "      <td>-0.864950</td>\n",
       "      <td>0.993449</td>\n",
       "      <td>-0.557341</td>\n",
       "      <td>-1.695815</td>\n",
       "      <td>1.896563</td>\n",
       "      <td>1.631999</td>\n",
       "      <td>0.416993</td>\n",
       "    </tr>\n",
       "    <tr>\n",
       "      <th>ёлка</th>\n",
       "      <td>-12.554540</td>\n",
       "      <td>4.091364</td>\n",
       "      <td>1.163870</td>\n",
       "      <td>-0.841151</td>\n",
       "      <td>-1.855941</td>\n",
       "      <td>-1.182554</td>\n",
       "      <td>-0.854645</td>\n",
       "      <td>-2.149008</td>\n",
       "      <td>0.710124</td>\n",
       "      <td>-0.366055</td>\n",
       "      <td>...</td>\n",
       "      <td>0.338266</td>\n",
       "      <td>-0.632959</td>\n",
       "      <td>-0.445936</td>\n",
       "      <td>0.155986</td>\n",
       "      <td>-0.013132</td>\n",
       "      <td>0.105791</td>\n",
       "      <td>0.292138</td>\n",
       "      <td>0.247028</td>\n",
       "      <td>-0.252788</td>\n",
       "      <td>-0.487673</td>\n",
       "    </tr>\n",
       "  </tbody>\n",
       "</table>\n",
       "<p>5190 rows × 200 columns</p>\n",
       "</div>"
      ],
      "text/plain": [
       "                   0          1          2         3         4         5    \\\n",
       "word                                                                         \n",
       "абп         -13.745661   6.144555   1.672390 -0.837235 -3.745957 -0.866193   \n",
       "абрамов      -3.991519   1.339566  11.473537 -3.064182 -5.942729 -3.422678   \n",
       "абсолютно   -11.821876   2.943006  -1.280718 -0.987937 -1.371568 -1.522340   \n",
       "авангардный  -7.512660   4.299288   8.587495 -1.755458 -5.053628  1.171524   \n",
       "аварийка    -12.834715   5.345289   1.413563 -0.377485 -3.892651 -0.032718   \n",
       "...                ...        ...        ...       ...       ...       ...   \n",
       "ярославский -13.313072   6.173671   1.877300 -1.076308 -3.661942 -0.843670   \n",
       "ярус        -13.842405   5.429180  -0.656739 -1.208449 -4.329737 -1.969817   \n",
       "яхтенный     -8.942939   4.312625   6.144215 -2.528917 -5.094325 -3.421365   \n",
       "ящик         28.061394 -37.385658 -31.492122 -4.315065 -0.786903 -2.306037   \n",
       "ёлка        -12.554540   4.091364   1.163870 -0.841151 -1.855941 -1.182554   \n",
       "\n",
       "                  6         7          8         9    ...       190       191  \\\n",
       "word                                                  ...                       \n",
       "абп         -0.170243  0.518571   1.121641 -1.053889  ... -0.124310 -0.076910   \n",
       "абрамов      2.007564  2.223933   2.904329 -3.163823  ... -1.809141 -0.098477   \n",
       "абсолютно   -0.233250 -0.602862   2.170925 -0.611029  ...  0.308653  0.359587   \n",
       "авангардный  0.330959  1.959238   3.094127  0.620284  ... -0.382019  0.042043   \n",
       "аварийка     0.037899  0.643811   1.148384 -1.069906  ... -0.308458 -0.167686   \n",
       "...               ...       ...        ...       ...  ...       ...       ...   \n",
       "ярославский -0.222866  0.142208   1.326214 -0.887128  ...  0.078221 -0.057317   \n",
       "ярус        -2.195102 -0.043728   0.903244 -0.638368  ...  0.127138 -0.084120   \n",
       "яхтенный     0.679796  2.320170   2.383721 -0.365530  ... -0.387536 -0.467000   \n",
       "ящик         4.680621 -2.915947 -21.778038  7.318800  ...  0.474253  1.126697   \n",
       "ёлка        -0.854645 -2.149008   0.710124 -0.366055  ...  0.338266 -0.632959   \n",
       "\n",
       "                  192       193       194       195       196       197  \\\n",
       "word                                                                      \n",
       "абп          0.048945  0.031750  0.007667 -0.038009  0.168864  0.000495   \n",
       "абрамов     -0.810195 -0.452103 -0.543618  1.680041  0.453972 -0.655151   \n",
       "абсолютно    0.387458 -0.257858  0.229763 -0.563574  0.312862 -0.277851   \n",
       "авангардный -0.119812 -0.030248 -0.457969  0.764405  0.292025 -0.466514   \n",
       "аварийка     0.190215  0.444776 -0.127919  0.217852  0.118530 -0.164167   \n",
       "...               ...       ...       ...       ...       ...       ...   \n",
       "ярославский -0.069204  0.072322 -0.108619 -0.022130  0.102530 -0.009779   \n",
       "ярус         0.125608 -0.524010  0.073769  0.107086  0.562880  0.067568   \n",
       "яхтенный    -0.279117  0.079510 -0.328350  0.893941  0.662707 -0.504196   \n",
       "ящик        -4.235314 -0.864950  0.993449 -0.557341 -1.695815  1.896563   \n",
       "ёлка        -0.445936  0.155986 -0.013132  0.105791  0.292138  0.247028   \n",
       "\n",
       "                  198       199  \n",
       "word                             \n",
       "абп         -0.130860  0.141327  \n",
       "абрамов     -0.514539 -0.426249  \n",
       "абсолютно    0.412213 -0.883354  \n",
       "авангардный -0.159710 -0.276336  \n",
       "аварийка     0.000987 -0.000986  \n",
       "...               ...       ...  \n",
       "ярославский -0.023583 -0.048692  \n",
       "ярус        -0.627302  0.082190  \n",
       "яхтенный    -0.241658  0.203533  \n",
       "ящик         1.631999  0.416993  \n",
       "ёлка        -0.252788 -0.487673  \n",
       "\n",
       "[5190 rows x 200 columns]"
      ]
     },
     "execution_count": 10,
     "metadata": {},
     "output_type": "execute_result"
    }
   ],
   "source": [
    "pca = PCA(n_components=200)\n",
    "pca_embeddings = pca.fit_transform(context_embeddings)\n",
    "w2v = pd.DataFrame(pca_embeddings, index=context_embeddings.index)\n",
    "w2v.index.name = \"word\"\n",
    "w2v"
   ]
  },
  {
   "cell_type": "code",
   "execution_count": 14,
   "metadata": {},
   "outputs": [],
   "source": [
    "# w2v.to_csv(\"../datasets/lab1-feature_extraction/compressed_embeddings200.tsv\", sep=\"\\t\")\n",
    "# w2v.to_csv(\"../datasets/lab1-feature_extraction/compressed_embeddings200.csv\")"
   ]
  }
 ],
 "metadata": {
  "kernelspec": {
   "display_name": "nlp-_HKkRELb-py3.11",
   "language": "python",
   "name": "python3"
  },
  "language_info": {
   "codemirror_mode": {
    "name": "ipython",
    "version": 3
   },
   "file_extension": ".py",
   "mimetype": "text/x-python",
   "name": "python",
   "nbconvert_exporter": "python",
   "pygments_lexer": "ipython3",
   "version": "3.11.7"
  }
 },
 "nbformat": 4,
 "nbformat_minor": 2
}
