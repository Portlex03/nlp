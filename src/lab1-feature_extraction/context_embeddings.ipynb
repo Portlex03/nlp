{
 "cells": [
  {
   "cell_type": "markdown",
   "metadata": {},
   "source": [
    "# Лабораторная работа №1 \n",
    "## Извлечение признаков из текстовых данных"
   ]
  },
  {
   "cell_type": "markdown",
   "metadata": {},
   "source": [
    "## Импорты"
   ]
  },
  {
   "cell_type": "code",
   "execution_count": 1,
   "metadata": {},
   "outputs": [
    {
     "name": "stderr",
     "output_type": "stream",
     "text": [
      "[nltk_data] Downloading package punkt to\n",
      "[nltk_data]     C:\\Users\\Azerty\\AppData\\Roaming\\nltk_data...\n",
      "[nltk_data]   Package punkt is already up-to-date!\n",
      "[nltk_data] Downloading package punkt_tab to\n",
      "[nltk_data]     C:\\Users\\Azerty\\AppData\\Roaming\\nltk_data...\n",
      "[nltk_data]   Package punkt_tab is already up-to-date!\n",
      "[nltk_data] Downloading package stopwords to\n",
      "[nltk_data]     C:\\Users\\Azerty\\AppData\\Roaming\\nltk_data...\n",
      "[nltk_data]   Package stopwords is already up-to-date!\n"
     ]
    },
    {
     "data": {
      "text/plain": [
       "True"
      ]
     },
     "execution_count": 1,
     "metadata": {},
     "output_type": "execute_result"
    }
   ],
   "source": [
    "import re\n",
    "from tqdm.notebook import tqdm\n",
    "\n",
    "import matplotlib.pyplot as plt\n",
    "import nltk\n",
    "from nltk.corpus import stopwords\n",
    "from nltk.tokenize import word_tokenize\n",
    "import numpy as np\n",
    "from num2words import num2words\n",
    "import pandas as pd\n",
    "from pymorphy3 import MorphAnalyzer\n",
    "from sklearn.decomposition import PCA\n",
    "\n",
    "nltk.download(\"punkt\")\n",
    "nltk.download(\"punkt_tab\")\n",
    "nltk.download(\"stopwords\")"
   ]
  },
  {
   "cell_type": "markdown",
   "metadata": {},
   "source": [
    "## Загрузка датасета"
   ]
  },
  {
   "cell_type": "code",
   "execution_count": 52,
   "metadata": {},
   "outputs": [
    {
     "data": {
      "text/html": [
       "<div>\n",
       "<style scoped>\n",
       "    .dataframe tbody tr th:only-of-type {\n",
       "        vertical-align: middle;\n",
       "    }\n",
       "\n",
       "    .dataframe tbody tr th {\n",
       "        vertical-align: top;\n",
       "    }\n",
       "\n",
       "    .dataframe thead th {\n",
       "        text-align: right;\n",
       "    }\n",
       "</style>\n",
       "<table border=\"1\" class=\"dataframe\">\n",
       "  <thead>\n",
       "    <tr style=\"text-align: right;\">\n",
       "      <th></th>\n",
       "      <th>id</th>\n",
       "      <th>public_petition_text</th>\n",
       "      <th>reason_category</th>\n",
       "    </tr>\n",
       "  </thead>\n",
       "  <tbody>\n",
       "    <tr>\n",
       "      <th>0</th>\n",
       "      <td>3168490</td>\n",
       "      <td>снег на дороге</td>\n",
       "      <td>Благоустройство</td>\n",
       "    </tr>\n",
       "    <tr>\n",
       "      <th>1</th>\n",
       "      <td>3219678</td>\n",
       "      <td>очистить кабельный киоск от рекламы</td>\n",
       "      <td>Благоустройство</td>\n",
       "    </tr>\n",
       "    <tr>\n",
       "      <th>2</th>\n",
       "      <td>2963920</td>\n",
       "      <td>Просим убрать все деревья и кустарники, которы...</td>\n",
       "      <td>Благоустройство</td>\n",
       "    </tr>\n",
       "    <tr>\n",
       "      <th>3</th>\n",
       "      <td>3374910</td>\n",
       "      <td>Неудовлетворительное состояние парадной - надп...</td>\n",
       "      <td>Содержание МКД</td>\n",
       "    </tr>\n",
       "    <tr>\n",
       "      <th>4</th>\n",
       "      <td>3336285</td>\n",
       "      <td>Граффити</td>\n",
       "      <td>Благоустройство</td>\n",
       "    </tr>\n",
       "  </tbody>\n",
       "</table>\n",
       "</div>"
      ],
      "text/plain": [
       "        id                               public_petition_text  reason_category\n",
       "0  3168490                                     снег на дороге  Благоустройство\n",
       "1  3219678                очистить кабельный киоск от рекламы  Благоустройство\n",
       "2  2963920  Просим убрать все деревья и кустарники, которы...  Благоустройство\n",
       "3  3374910  Неудовлетворительное состояние парадной - надп...   Содержание МКД\n",
       "4  3336285                                           Граффити  Благоустройство"
      ]
     },
     "execution_count": 52,
     "metadata": {},
     "output_type": "execute_result"
    }
   ],
   "source": [
    "petitions = pd.read_csv(\"../../datasets/lab1-feature_extraction/petitions.csv\")\n",
    "petitions.head()"
   ]
  },
  {
   "cell_type": "code",
   "execution_count": 53,
   "metadata": {},
   "outputs": [
    {
     "data": {
      "text/plain": [
       "0                                       снег на дороге\n",
       "1                  очистить кабельный киоск от рекламы\n",
       "2    Просим убрать все деревья и кустарники, которы...\n",
       "3    Неудовлетворительное состояние парадной - надп...\n",
       "4                                             Граффити\n",
       "Name: corpus, dtype: object"
      ]
     },
     "metadata": {},
     "output_type": "display_data"
    },
    {
     "data": {
      "text/plain": [
       "(59889,)"
      ]
     },
     "metadata": {},
     "output_type": "display_data"
    }
   ],
   "source": [
    "df_corpus = petitions[\"public_petition_text\"]\n",
    "df_corpus.name = \"corpus\"\n",
    "display(df_corpus[:5], df_corpus.shape)"
   ]
  },
  {
   "cell_type": "markdown",
   "metadata": {},
   "source": [
    "## Предобработка"
   ]
  },
  {
   "cell_type": "code",
   "execution_count": 54,
   "metadata": {},
   "outputs": [
    {
     "data": {
      "text/plain": [
       "np.int64(16749)"
      ]
     },
     "execution_count": 54,
     "metadata": {},
     "output_type": "execute_result"
    }
   ],
   "source": [
    "df_corpus.duplicated().sum()"
   ]
  },
  {
   "cell_type": "code",
   "execution_count": 55,
   "metadata": {},
   "outputs": [
    {
     "data": {
      "text/plain": [
       "(43140,)"
      ]
     },
     "execution_count": 55,
     "metadata": {},
     "output_type": "execute_result"
    }
   ],
   "source": [
    "df_corpus = df_corpus.drop_duplicates()\n",
    "df_corpus.shape"
   ]
  },
  {
   "cell_type": "code",
   "execution_count": 56,
   "metadata": {},
   "outputs": [],
   "source": [
    "def replace_number(number) -> str:\n",
    "    return \" \" + num2words(number.group(0), lang=\"ru\") + \" \"\n",
    "\n",
    "\n",
    "def replace_several_words(text: str, replacements: dict[str, str]) -> str:\n",
    "    for pattern, replacement in replacements.items():\n",
    "        text = re.sub(pattern, replacement, text)\n",
    "    return text\n",
    "\n",
    "\n",
    "def preprocess(text: str):\n",
    "    # ссылки\n",
    "    pattern = r\"http[s]?://(?:[a-zA-Z]|[0-9]|[$-_@.&+]|[!*\\(\\),]|(?:%[0-9a-fA-F][0-9a-fA-F]))+\"\n",
    "    text = re.sub(pattern, \"\", text)\n",
    "    # числа\n",
    "    text = re.sub(r\"\\d+\", replace_number, text)\n",
    "    # замена слов\n",
    "    replacements = {\n",
    "        r\"\\bд\\b\": \"дом\",\n",
    "        r\"\\bкв\\b\": \"квартира\",\n",
    "        r\"\\bул\\b\": \"улица\",\n",
    "        r\"\\bк\\b\": \"квартира\",\n",
    "    }\n",
    "    text = replace_several_words(text, replacements)\n",
    "    # удалить все символы кроме слов\n",
    "    text = re.sub(r\"[_\\W]+\", \" \", text)\n",
    "    # удалить все слова кроме русских\n",
    "    text = re.sub(r\"[^а-яА-ЯёЁ\\s]\", \"\", text)\n",
    "    return text"
   ]
  },
  {
   "cell_type": "code",
   "execution_count": 57,
   "metadata": {},
   "outputs": [
    {
     "data": {
      "text/plain": [
       "0                                       снег на дороге\n",
       "1                  очистить кабельный киоск от рекламы\n",
       "2    Просим убрать все деревья и кустарники которые...\n",
       "3    Неудовлетворительное состояние парадной надпис...\n",
       "4                                             Граффити\n",
       "Name: corpus, dtype: object"
      ]
     },
     "execution_count": 57,
     "metadata": {},
     "output_type": "execute_result"
    }
   ],
   "source": [
    "preprocessed_corpus = df_corpus.apply(preprocess)\n",
    "preprocessed_corpus.head()"
   ]
  },
  {
   "cell_type": "markdown",
   "metadata": {},
   "source": [
    "## Токенизация"
   ]
  },
  {
   "cell_type": "code",
   "execution_count": 58,
   "metadata": {},
   "outputs": [],
   "source": [
    "def tokenize(text: str) -> list[str]:\n",
    "    return word_tokenize(text, language=\"russian\")"
   ]
  },
  {
   "cell_type": "code",
   "execution_count": 59,
   "metadata": {},
   "outputs": [
    {
     "data": {
      "text/plain": [
       "0                                   [снег, на, дороге]\n",
       "1            [очистить, кабельный, киоск, от, рекламы]\n",
       "2    [Просим, убрать, все, деревья, и, кустарники, ...\n",
       "3    [Неудовлетворительное, состояние, парадной, на...\n",
       "4                                           [Граффити]\n",
       "Name: corpus, dtype: object"
      ]
     },
     "execution_count": 59,
     "metadata": {},
     "output_type": "execute_result"
    }
   ],
   "source": [
    "tokenized_corpus = preprocessed_corpus.apply(tokenize)\n",
    "tokenized_corpus[:5]"
   ]
  },
  {
   "cell_type": "markdown",
   "metadata": {},
   "source": [
    "## Нормализация"
   ]
  },
  {
   "cell_type": "code",
   "execution_count": 60,
   "metadata": {},
   "outputs": [],
   "source": [
    "morph = MorphAnalyzer(lang=\"ru\")\n",
    "threshold = 0.45\n",
    "\n",
    "\n",
    "def normalize(doc: list[str]) -> list[str]:\n",
    "    changed_text = []\n",
    "    for word in doc:\n",
    "        parse = morph.parse(word)[0]\n",
    "        if parse.score >= threshold:\n",
    "            changed_text.append(parse.normal_form)\n",
    "    return changed_text"
   ]
  },
  {
   "cell_type": "code",
   "execution_count": 61,
   "metadata": {},
   "outputs": [
    {
     "data": {
      "text/plain": [
       "0                                   [снег, на, дорога]\n",
       "1            [очистить, кабельный, киоск, от, реклама]\n",
       "2    [просить, убрать, всё, дерево, и, кустарник, к...\n",
       "3          [неудовлетворительный, состояние, на, этаж]\n",
       "4                                                   []\n",
       "Name: corpus, dtype: object"
      ]
     },
     "execution_count": 61,
     "metadata": {},
     "output_type": "execute_result"
    }
   ],
   "source": [
    "normalized_corpus = tokenized_corpus.apply(normalize)\n",
    "normalized_corpus[:5]"
   ]
  },
  {
   "cell_type": "markdown",
   "metadata": {},
   "source": [
    "## Стоп-слова"
   ]
  },
  {
   "cell_type": "code",
   "execution_count": 62,
   "metadata": {},
   "outputs": [],
   "source": [
    "stop_words = stopwords.words(\"russian\")\n",
    "\n",
    "\n",
    "def delete_stopwords(text: list[str]) -> list[str]:\n",
    "    return [word for word in text if word not in stop_words]"
   ]
  },
  {
   "cell_type": "code",
   "execution_count": 63,
   "metadata": {},
   "outputs": [
    {
     "data": {
      "text/plain": [
       "0                                       [снег, дорога]\n",
       "1                [очистить, кабельный, киоск, реклама]\n",
       "2    [просить, убрать, всё, дерево, кустарник, кото...\n",
       "3              [неудовлетворительный, состояние, этаж]\n",
       "4                                                   []\n",
       "Name: corpus, dtype: object"
      ]
     },
     "execution_count": 63,
     "metadata": {},
     "output_type": "execute_result"
    }
   ],
   "source": [
    "filtered_corpus = normalized_corpus.apply(delete_stopwords)\n",
    "filtered_corpus[:5]"
   ]
  },
  {
   "cell_type": "code",
   "execution_count": 64,
   "metadata": {},
   "outputs": [
    {
     "data": {
      "text/plain": [
       "2     [просить, убрать, всё, дерево, кустарник, кото...\n",
       "5     [необходимо, проверить, законность, установка,...\n",
       "6     [уборка, производиться, лестница, очень, грязн...\n",
       "8     [отсутствовать, освещение, площадка, шесть, се...\n",
       "9     [делать, благоустройство, никто, убирать, мусо...\n",
       "15    [пожалуйста, удалить, бетонный, арматура, газо...\n",
       "17    [ланский, дом, двенадцать, квартира, парадный,...\n",
       "18           [кривой, висеть, просьба, поправить, этаж]\n",
       "19    [плохой, уборка, улица, мусор, тротуар, газон,...\n",
       "23    [демонтаж, рекламный, вывеска, фасад, образова...\n",
       "Name: corpus, dtype: object"
      ]
     },
     "metadata": {},
     "output_type": "display_data"
    },
    {
     "data": {
      "text/plain": [
       "29679"
      ]
     },
     "metadata": {},
     "output_type": "display_data"
    }
   ],
   "source": [
    "corpus = filtered_corpus[filtered_corpus.apply(lambda doc: len(doc) >= 5)]\n",
    "display(corpus[:10], len(corpus))"
   ]
  },
  {
   "cell_type": "code",
   "execution_count": 65,
   "metadata": {},
   "outputs": [],
   "source": [
    "# corpus.apply(\" \".join).to_csv(\"../../datasets/lab1-feature_extraction/corpus.csv\", index=False)"
   ]
  },
  {
   "cell_type": "markdown",
   "metadata": {},
   "source": [
    "## Матрица контекстных эмбеддингов"
   ]
  },
  {
   "cell_type": "code",
   "execution_count": 66,
   "metadata": {},
   "outputs": [
    {
     "data": {
      "text/plain": [
       "['аа',\n",
       " 'ааш',\n",
       " 'аба',\n",
       " 'абажур',\n",
       " 'абз',\n",
       " 'абзац',\n",
       " 'абонентский',\n",
       " 'абп',\n",
       " 'абразив',\n",
       " 'абразивный']"
      ]
     },
     "metadata": {},
     "output_type": "display_data"
    },
    {
     "data": {
      "text/plain": [
       "13505"
      ]
     },
     "metadata": {},
     "output_type": "display_data"
    }
   ],
   "source": [
    "vocabulary = sorted(set([word for doc in corpus for word in doc]))\n",
    "display(vocabulary[:10], len(vocabulary))"
   ]
  },
  {
   "cell_type": "code",
   "execution_count": 67,
   "metadata": {},
   "outputs": [
    {
     "data": {
      "text/html": [
       "<div>\n",
       "<style scoped>\n",
       "    .dataframe tbody tr th:only-of-type {\n",
       "        vertical-align: middle;\n",
       "    }\n",
       "\n",
       "    .dataframe tbody tr th {\n",
       "        vertical-align: top;\n",
       "    }\n",
       "\n",
       "    .dataframe thead th {\n",
       "        text-align: right;\n",
       "    }\n",
       "</style>\n",
       "<table border=\"1\" class=\"dataframe\">\n",
       "  <thead>\n",
       "    <tr style=\"text-align: right;\">\n",
       "      <th></th>\n",
       "      <th>аа</th>\n",
       "      <th>ааш</th>\n",
       "      <th>аба</th>\n",
       "      <th>абажур</th>\n",
       "      <th>абз</th>\n",
       "      <th>абзац</th>\n",
       "      <th>абонентский</th>\n",
       "      <th>абп</th>\n",
       "      <th>абразив</th>\n",
       "      <th>абразивный</th>\n",
       "      <th>...</th>\n",
       "      <th>ясно</th>\n",
       "      <th>ясный</th>\n",
       "      <th>яхтенный</th>\n",
       "      <th>ячейка</th>\n",
       "      <th>ящик</th>\n",
       "      <th>ёлка</th>\n",
       "      <th>ёлочка</th>\n",
       "      <th>ёлочный</th>\n",
       "      <th>ёмкость</th>\n",
       "      <th>ёх</th>\n",
       "    </tr>\n",
       "  </thead>\n",
       "  <tbody>\n",
       "    <tr>\n",
       "      <th>аа</th>\n",
       "      <td>0</td>\n",
       "      <td>0</td>\n",
       "      <td>0</td>\n",
       "      <td>0</td>\n",
       "      <td>0</td>\n",
       "      <td>0</td>\n",
       "      <td>0</td>\n",
       "      <td>0</td>\n",
       "      <td>0</td>\n",
       "      <td>0</td>\n",
       "      <td>...</td>\n",
       "      <td>0</td>\n",
       "      <td>0</td>\n",
       "      <td>0</td>\n",
       "      <td>0</td>\n",
       "      <td>0</td>\n",
       "      <td>0</td>\n",
       "      <td>0</td>\n",
       "      <td>0</td>\n",
       "      <td>0</td>\n",
       "      <td>0</td>\n",
       "    </tr>\n",
       "    <tr>\n",
       "      <th>ааш</th>\n",
       "      <td>0</td>\n",
       "      <td>0</td>\n",
       "      <td>0</td>\n",
       "      <td>0</td>\n",
       "      <td>0</td>\n",
       "      <td>0</td>\n",
       "      <td>0</td>\n",
       "      <td>0</td>\n",
       "      <td>0</td>\n",
       "      <td>0</td>\n",
       "      <td>...</td>\n",
       "      <td>0</td>\n",
       "      <td>0</td>\n",
       "      <td>0</td>\n",
       "      <td>0</td>\n",
       "      <td>0</td>\n",
       "      <td>0</td>\n",
       "      <td>0</td>\n",
       "      <td>0</td>\n",
       "      <td>0</td>\n",
       "      <td>0</td>\n",
       "    </tr>\n",
       "    <tr>\n",
       "      <th>аба</th>\n",
       "      <td>0</td>\n",
       "      <td>0</td>\n",
       "      <td>0</td>\n",
       "      <td>0</td>\n",
       "      <td>0</td>\n",
       "      <td>0</td>\n",
       "      <td>0</td>\n",
       "      <td>0</td>\n",
       "      <td>0</td>\n",
       "      <td>0</td>\n",
       "      <td>...</td>\n",
       "      <td>0</td>\n",
       "      <td>0</td>\n",
       "      <td>0</td>\n",
       "      <td>0</td>\n",
       "      <td>0</td>\n",
       "      <td>0</td>\n",
       "      <td>0</td>\n",
       "      <td>0</td>\n",
       "      <td>0</td>\n",
       "      <td>0</td>\n",
       "    </tr>\n",
       "    <tr>\n",
       "      <th>абажур</th>\n",
       "      <td>0</td>\n",
       "      <td>0</td>\n",
       "      <td>0</td>\n",
       "      <td>0</td>\n",
       "      <td>0</td>\n",
       "      <td>0</td>\n",
       "      <td>0</td>\n",
       "      <td>0</td>\n",
       "      <td>0</td>\n",
       "      <td>0</td>\n",
       "      <td>...</td>\n",
       "      <td>0</td>\n",
       "      <td>0</td>\n",
       "      <td>0</td>\n",
       "      <td>0</td>\n",
       "      <td>0</td>\n",
       "      <td>0</td>\n",
       "      <td>0</td>\n",
       "      <td>0</td>\n",
       "      <td>0</td>\n",
       "      <td>0</td>\n",
       "    </tr>\n",
       "    <tr>\n",
       "      <th>абз</th>\n",
       "      <td>0</td>\n",
       "      <td>0</td>\n",
       "      <td>0</td>\n",
       "      <td>0</td>\n",
       "      <td>0</td>\n",
       "      <td>0</td>\n",
       "      <td>0</td>\n",
       "      <td>0</td>\n",
       "      <td>0</td>\n",
       "      <td>0</td>\n",
       "      <td>...</td>\n",
       "      <td>0</td>\n",
       "      <td>0</td>\n",
       "      <td>0</td>\n",
       "      <td>0</td>\n",
       "      <td>0</td>\n",
       "      <td>0</td>\n",
       "      <td>0</td>\n",
       "      <td>0</td>\n",
       "      <td>0</td>\n",
       "      <td>0</td>\n",
       "    </tr>\n",
       "    <tr>\n",
       "      <th>...</th>\n",
       "      <td>...</td>\n",
       "      <td>...</td>\n",
       "      <td>...</td>\n",
       "      <td>...</td>\n",
       "      <td>...</td>\n",
       "      <td>...</td>\n",
       "      <td>...</td>\n",
       "      <td>...</td>\n",
       "      <td>...</td>\n",
       "      <td>...</td>\n",
       "      <td>...</td>\n",
       "      <td>...</td>\n",
       "      <td>...</td>\n",
       "      <td>...</td>\n",
       "      <td>...</td>\n",
       "      <td>...</td>\n",
       "      <td>...</td>\n",
       "      <td>...</td>\n",
       "      <td>...</td>\n",
       "      <td>...</td>\n",
       "      <td>...</td>\n",
       "    </tr>\n",
       "    <tr>\n",
       "      <th>ёлка</th>\n",
       "      <td>0</td>\n",
       "      <td>0</td>\n",
       "      <td>0</td>\n",
       "      <td>0</td>\n",
       "      <td>0</td>\n",
       "      <td>0</td>\n",
       "      <td>0</td>\n",
       "      <td>0</td>\n",
       "      <td>0</td>\n",
       "      <td>0</td>\n",
       "      <td>...</td>\n",
       "      <td>0</td>\n",
       "      <td>0</td>\n",
       "      <td>0</td>\n",
       "      <td>0</td>\n",
       "      <td>0</td>\n",
       "      <td>0</td>\n",
       "      <td>0</td>\n",
       "      <td>0</td>\n",
       "      <td>0</td>\n",
       "      <td>0</td>\n",
       "    </tr>\n",
       "    <tr>\n",
       "      <th>ёлочка</th>\n",
       "      <td>0</td>\n",
       "      <td>0</td>\n",
       "      <td>0</td>\n",
       "      <td>0</td>\n",
       "      <td>0</td>\n",
       "      <td>0</td>\n",
       "      <td>0</td>\n",
       "      <td>0</td>\n",
       "      <td>0</td>\n",
       "      <td>0</td>\n",
       "      <td>...</td>\n",
       "      <td>0</td>\n",
       "      <td>0</td>\n",
       "      <td>0</td>\n",
       "      <td>0</td>\n",
       "      <td>0</td>\n",
       "      <td>0</td>\n",
       "      <td>0</td>\n",
       "      <td>0</td>\n",
       "      <td>0</td>\n",
       "      <td>0</td>\n",
       "    </tr>\n",
       "    <tr>\n",
       "      <th>ёлочный</th>\n",
       "      <td>0</td>\n",
       "      <td>0</td>\n",
       "      <td>0</td>\n",
       "      <td>0</td>\n",
       "      <td>0</td>\n",
       "      <td>0</td>\n",
       "      <td>0</td>\n",
       "      <td>0</td>\n",
       "      <td>0</td>\n",
       "      <td>0</td>\n",
       "      <td>...</td>\n",
       "      <td>0</td>\n",
       "      <td>0</td>\n",
       "      <td>0</td>\n",
       "      <td>0</td>\n",
       "      <td>0</td>\n",
       "      <td>0</td>\n",
       "      <td>0</td>\n",
       "      <td>0</td>\n",
       "      <td>0</td>\n",
       "      <td>0</td>\n",
       "    </tr>\n",
       "    <tr>\n",
       "      <th>ёмкость</th>\n",
       "      <td>0</td>\n",
       "      <td>0</td>\n",
       "      <td>0</td>\n",
       "      <td>0</td>\n",
       "      <td>0</td>\n",
       "      <td>0</td>\n",
       "      <td>0</td>\n",
       "      <td>0</td>\n",
       "      <td>0</td>\n",
       "      <td>0</td>\n",
       "      <td>...</td>\n",
       "      <td>0</td>\n",
       "      <td>0</td>\n",
       "      <td>0</td>\n",
       "      <td>0</td>\n",
       "      <td>0</td>\n",
       "      <td>0</td>\n",
       "      <td>0</td>\n",
       "      <td>0</td>\n",
       "      <td>0</td>\n",
       "      <td>0</td>\n",
       "    </tr>\n",
       "    <tr>\n",
       "      <th>ёх</th>\n",
       "      <td>0</td>\n",
       "      <td>0</td>\n",
       "      <td>0</td>\n",
       "      <td>0</td>\n",
       "      <td>0</td>\n",
       "      <td>0</td>\n",
       "      <td>0</td>\n",
       "      <td>0</td>\n",
       "      <td>0</td>\n",
       "      <td>0</td>\n",
       "      <td>...</td>\n",
       "      <td>0</td>\n",
       "      <td>0</td>\n",
       "      <td>0</td>\n",
       "      <td>0</td>\n",
       "      <td>0</td>\n",
       "      <td>0</td>\n",
       "      <td>0</td>\n",
       "      <td>0</td>\n",
       "      <td>0</td>\n",
       "      <td>0</td>\n",
       "    </tr>\n",
       "  </tbody>\n",
       "</table>\n",
       "<p>13505 rows × 13505 columns</p>\n",
       "</div>"
      ],
      "text/plain": [
       "         аа  ааш  аба  абажур  абз  абзац  абонентский  абп  абразив  \\\n",
       "аа        0    0    0       0    0      0            0    0        0   \n",
       "ааш       0    0    0       0    0      0            0    0        0   \n",
       "аба       0    0    0       0    0      0            0    0        0   \n",
       "абажур    0    0    0       0    0      0            0    0        0   \n",
       "абз       0    0    0       0    0      0            0    0        0   \n",
       "...      ..  ...  ...     ...  ...    ...          ...  ...      ...   \n",
       "ёлка      0    0    0       0    0      0            0    0        0   \n",
       "ёлочка    0    0    0       0    0      0            0    0        0   \n",
       "ёлочный   0    0    0       0    0      0            0    0        0   \n",
       "ёмкость   0    0    0       0    0      0            0    0        0   \n",
       "ёх        0    0    0       0    0      0            0    0        0   \n",
       "\n",
       "         абразивный  ...  ясно  ясный  яхтенный  ячейка  ящик  ёлка  ёлочка  \\\n",
       "аа                0  ...     0      0         0       0     0     0       0   \n",
       "ааш               0  ...     0      0         0       0     0     0       0   \n",
       "аба               0  ...     0      0         0       0     0     0       0   \n",
       "абажур            0  ...     0      0         0       0     0     0       0   \n",
       "абз               0  ...     0      0         0       0     0     0       0   \n",
       "...             ...  ...   ...    ...       ...     ...   ...   ...     ...   \n",
       "ёлка              0  ...     0      0         0       0     0     0       0   \n",
       "ёлочка            0  ...     0      0         0       0     0     0       0   \n",
       "ёлочный           0  ...     0      0         0       0     0     0       0   \n",
       "ёмкость           0  ...     0      0         0       0     0     0       0   \n",
       "ёх                0  ...     0      0         0       0     0     0       0   \n",
       "\n",
       "         ёлочный  ёмкость  ёх  \n",
       "аа             0        0   0  \n",
       "ааш            0        0   0  \n",
       "аба            0        0   0  \n",
       "абажур         0        0   0  \n",
       "абз            0        0   0  \n",
       "...          ...      ...  ..  \n",
       "ёлка           0        0   0  \n",
       "ёлочка         0        0   0  \n",
       "ёлочный        0        0   0  \n",
       "ёмкость        0        0   0  \n",
       "ёх             0        0   0  \n",
       "\n",
       "[13505 rows x 13505 columns]"
      ]
     },
     "execution_count": 67,
     "metadata": {},
     "output_type": "execute_result"
    }
   ],
   "source": [
    "N = len(vocabulary)\n",
    "context_embeddings = pd.DataFrame(\n",
    "    data=np.zeros((N, N)),\n",
    "    index=vocabulary,\n",
    "    columns=vocabulary,\n",
    "    dtype=np.int16\n",
    ")\n",
    "context_embeddings"
   ]
  },
  {
   "cell_type": "code",
   "execution_count": 68,
   "metadata": {},
   "outputs": [
    {
     "data": {
      "application/vnd.jupyter.widget-view+json": {
       "model_id": "cf32d524cc944c55a94b4185fd80dd0f",
       "version_major": 2,
       "version_minor": 0
      },
      "text/plain": [
       "  0%|          | 0/29679 [00:00<?, ?it/s]"
      ]
     },
     "metadata": {},
     "output_type": "display_data"
    }
   ],
   "source": [
    "for doc in tqdm(corpus):\n",
    "    for i in range(len(doc) - 2):\n",
    "        main_word = doc[i]\n",
    "        for word in doc[i + 1 : i + 3]:\n",
    "            context_embeddings.loc[main_word, word] += 1\n",
    "            context_embeddings.loc[word, main_word] += 1\n",
    "\n",
    "# context_embeddings.to_csv(\"../../datasets/lab1-feature_extraction/embeddings.csv\")"
   ]
  },
  {
   "cell_type": "code",
   "execution_count": 69,
   "metadata": {},
   "outputs": [
    {
     "data": {
      "text/html": [
       "<div>\n",
       "<style scoped>\n",
       "    .dataframe tbody tr th:only-of-type {\n",
       "        vertical-align: middle;\n",
       "    }\n",
       "\n",
       "    .dataframe tbody tr th {\n",
       "        vertical-align: top;\n",
       "    }\n",
       "\n",
       "    .dataframe thead th {\n",
       "        text-align: right;\n",
       "    }\n",
       "</style>\n",
       "<table border=\"1\" class=\"dataframe\">\n",
       "  <thead>\n",
       "    <tr style=\"text-align: right;\">\n",
       "      <th></th>\n",
       "      <th>0</th>\n",
       "      <th>1</th>\n",
       "    </tr>\n",
       "    <tr>\n",
       "      <th>word</th>\n",
       "      <th></th>\n",
       "      <th></th>\n",
       "    </tr>\n",
       "  </thead>\n",
       "  <tbody>\n",
       "    <tr>\n",
       "      <th>аа</th>\n",
       "      <td>-5.251284</td>\n",
       "      <td>2.832252</td>\n",
       "    </tr>\n",
       "    <tr>\n",
       "      <th>ааш</th>\n",
       "      <td>-5.246583</td>\n",
       "      <td>2.369324</td>\n",
       "    </tr>\n",
       "    <tr>\n",
       "      <th>аба</th>\n",
       "      <td>-5.463699</td>\n",
       "      <td>2.696263</td>\n",
       "    </tr>\n",
       "    <tr>\n",
       "      <th>абажур</th>\n",
       "      <td>-5.504235</td>\n",
       "      <td>2.487352</td>\n",
       "    </tr>\n",
       "    <tr>\n",
       "      <th>абз</th>\n",
       "      <td>-4.865602</td>\n",
       "      <td>2.937585</td>\n",
       "    </tr>\n",
       "    <tr>\n",
       "      <th>...</th>\n",
       "      <td>...</td>\n",
       "      <td>...</td>\n",
       "    </tr>\n",
       "    <tr>\n",
       "      <th>ёлка</th>\n",
       "      <td>-3.701815</td>\n",
       "      <td>-0.015286</td>\n",
       "    </tr>\n",
       "    <tr>\n",
       "      <th>ёлочка</th>\n",
       "      <td>-5.516117</td>\n",
       "      <td>2.544450</td>\n",
       "    </tr>\n",
       "    <tr>\n",
       "      <th>ёлочный</th>\n",
       "      <td>-5.527348</td>\n",
       "      <td>2.570741</td>\n",
       "    </tr>\n",
       "    <tr>\n",
       "      <th>ёмкость</th>\n",
       "      <td>-5.484891</td>\n",
       "      <td>2.475277</td>\n",
       "    </tr>\n",
       "    <tr>\n",
       "      <th>ёх</th>\n",
       "      <td>-5.325218</td>\n",
       "      <td>2.587114</td>\n",
       "    </tr>\n",
       "  </tbody>\n",
       "</table>\n",
       "<p>13505 rows × 2 columns</p>\n",
       "</div>"
      ],
      "text/plain": [
       "                0         1\n",
       "word                       \n",
       "аа      -5.251284  2.832252\n",
       "ааш     -5.246583  2.369324\n",
       "аба     -5.463699  2.696263\n",
       "абажур  -5.504235  2.487352\n",
       "абз     -4.865602  2.937585\n",
       "...           ...       ...\n",
       "ёлка    -3.701815 -0.015286\n",
       "ёлочка  -5.516117  2.544450\n",
       "ёлочный -5.527348  2.570741\n",
       "ёмкость -5.484891  2.475277\n",
       "ёх      -5.325218  2.587114\n",
       "\n",
       "[13505 rows x 2 columns]"
      ]
     },
     "execution_count": 69,
     "metadata": {},
     "output_type": "execute_result"
    }
   ],
   "source": [
    "pca = PCA(n_components=2)\n",
    "pca_embeddings = pca.fit_transform(context_embeddings)\n",
    "w2v = pd.DataFrame(pca_embeddings, index=context_embeddings.index)\n",
    "w2v.index.name = \"word\"\n",
    "w2v"
   ]
  },
  {
   "cell_type": "code",
   "execution_count": 93,
   "metadata": {},
   "outputs": [
    {
     "data": {
      "text/plain": [
       "<matplotlib.collections.PathCollection at 0x1cfeb429d90>"
      ]
     },
     "execution_count": 93,
     "metadata": {},
     "output_type": "execute_result"
    },
    {
     "data": {
      "image/png": "[encoded data removed]",
      "text/plain": [
       "<Figure size 640x480 with 1 Axes>"
      ]
     },
     "metadata": {},
     "output_type": "display_data"
    }
   ],
   "source": [
    "plt.scatter(x=w2v[0], y=w2v[1])"
   ]
  }
 ],
 "metadata": {
  "kernelspec": {
   "display_name": "nlp-_HKkRELb-py3.11",
   "language": "python",
   "name": "python3"
  },
  "language_info": {
   "codemirror_mode": {
    "name": "ipython",
    "version": 3
   },
   "file_extension": ".py",
   "mimetype": "text/x-python",
   "name": "python",
   "nbconvert_exporter": "python",
   "pygments_lexer": "ipython3",
   "version": "3.11.7"
  }
 },
 "nbformat": 4,
 "nbformat_minor": 2
}
